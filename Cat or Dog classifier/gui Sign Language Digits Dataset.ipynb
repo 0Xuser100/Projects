{
 "cells": [
  {
   "cell_type": "code",
   "execution_count": null,
   "id": "2e46e5d3",
   "metadata": {},
   "outputs": [
    {
     "name": "stdout",
     "output_type": "stream",
     "text": [
      "WARNING:tensorflow:From C:\\Users\\Softlaptop\\AppData\\Roaming\\Python\\Python310\\site-packages\\keras\\src\\losses.py:2976: The name tf.losses.sparse_softmax_cross_entropy is deprecated. Please use tf.compat.v1.losses.sparse_softmax_cross_entropy instead.\n",
      "\n",
      "WARNING:tensorflow:From C:\\Users\\Softlaptop\\AppData\\Roaming\\Python\\Python310\\site-packages\\keras\\src\\backend.py:1398: The name tf.executing_eagerly_outside_functions is deprecated. Please use tf.compat.v1.executing_eagerly_outside_functions instead.\n",
      "\n",
      "WARNING:tensorflow:From C:\\Users\\Softlaptop\\AppData\\Roaming\\Python\\Python310\\site-packages\\keras\\src\\layers\\normalization\\batch_normalization.py:979: The name tf.nn.fused_batch_norm is deprecated. Please use tf.compat.v1.nn.fused_batch_norm instead.\n",
      "\n",
      "1/1 [==============================] - 1s 743ms/step\n",
      "1/1 [==============================] - 0s 62ms/step\n"
     ]
    }
   ],
   "source": [
    "import tkinter as tk\n",
    "from tkinter import ttk\n",
    "from tkinter import filedialog\n",
    "from PIL import Image, ImageTk\n",
    "import numpy as np\n",
    "import tensorflow as tf\n",
    "from tensorflow.keras.models import load_model\n",
    "from tensorflow.keras.applications.mobilenet import preprocess_input\n",
    "\n",
    "class SignLanguageApp(tk.Tk):\n",
    "    def __init__(self, model_path):\n",
    "        super().__init__()\n",
    "        self.title(\"Sign Language Digit Recognition GUI\")\n",
    "        self.geometry(\"800x600\")  # Set a larger size for the GUI\n",
    "\n",
    "        # Load the trained model\n",
    "        self.model = load_model('Sign Language Digits Dataset.h5')\n",
    "\n",
    "        # Create widgets\n",
    "        self.create_widgets()\n",
    "\n",
    "    def create_widgets(self):\n",
    "        # Create a label for user input\n",
    "        entry_label = tk.Label(self, text=\"Select an Image:\")\n",
    "        entry_label.pack(pady=10)\n",
    "\n",
    "        # Create an entry widget for user input\n",
    "        entry_button = tk.Button(self, text=\"Browse\", command=self.predict_sign_language)\n",
    "        entry_button.pack(pady=10)\n",
    "\n",
    "        # Create a label to display the selected image\n",
    "        self.image_label = tk.Label(self, text=\"Selected Image:\")\n",
    "        self.image_label.pack(pady=10)\n",
    "\n",
    "        # Create a label to display the prediction result\n",
    "        self.result_label = tk.Label(self, text=\"Prediction: \")\n",
    "        self.result_label.pack(pady=10)\n",
    "\n",
    "    def predict_sign_language(self):\n",
    "        # Get the path of the selected image\n",
    "        image_path = filedialog.askopenfilename(title=\"Select Image\", filetypes=[(\"Image files\", \"*.png;*.jpg;*.jpeg\")])\n",
    "\n",
    "        # Load and preprocess the image\n",
    "        img = Image.open(image_path).resize((224, 224))\n",
    "        img_array = np.expand_dims(np.array(img), axis=0)\n",
    "        img_array = preprocess_input(img_array)\n",
    "\n",
    "        # Display the selected image\n",
    "        img = ImageTk.PhotoImage(img)\n",
    "        self.image_label.config(image=img)\n",
    "        self.image_label.image = img  # Keep a reference to avoid garbage collection\n",
    "\n",
    "        # Make a prediction\n",
    "        prediction = self.model.predict(img_array)\n",
    "\n",
    "        # Display the result\n",
    "        predicted_class = np.argmax(prediction)\n",
    "        self.result_label.config(text=f\"Prediction: {predicted_class}\")\n",
    "\n",
    "if __name__ == \"__main__\":\n",
    "    model_path = 'Sign Language Digits Dataset.h5'  # Replace with the actual path to your trained model\n",
    "    app = SignLanguageApp(model_path)\n",
    "    app.mainloop()\n"
   ]
  },
  {
   "cell_type": "code",
   "execution_count": null,
   "id": "767cdb90",
   "metadata": {},
   "outputs": [],
   "source": []
  }
 ],
 "metadata": {
  "kernelspec": {
   "display_name": "Python 3 (ipykernel)",
   "language": "python",
   "name": "python3"
  },
  "language_info": {
   "codemirror_mode": {
    "name": "ipython",
    "version": 3
   },
   "file_extension": ".py",
   "mimetype": "text/x-python",
   "name": "python",
   "nbconvert_exporter": "python",
   "pygments_lexer": "ipython3",
   "version": "3.10.9"
  }
 },
 "nbformat": 4,
 "nbformat_minor": 5
}
