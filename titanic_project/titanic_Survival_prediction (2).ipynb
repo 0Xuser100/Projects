{
 "cells": [
  {
   "cell_type": "markdown",
   "id": "8a31f15d",
   "metadata": {},
   "source": [
    "# Dataset\n",
    "\n",
    "https://www.kaggle.com/competitions/titanic"
   ]
  },
  {
   "cell_type": "code",
   "execution_count": 4,
   "id": "ef8bac3a",
   "metadata": {
    "execution": {
     "iopub.execute_input": "2022-12-28T15:12:01.797120Z",
     "iopub.status.busy": "2022-12-28T15:12:01.796739Z",
     "iopub.status.idle": "2022-12-28T15:12:02.888597Z",
     "shell.execute_reply": "2022-12-28T15:12:02.887502Z"
    },
    "papermill": {
     "duration": 1.112774,
     "end_time": "2022-12-28T15:12:02.892827",
     "exception": false,
     "start_time": "2022-12-28T15:12:01.780053",
     "status": "completed"
    },
    "tags": []
   },
   "outputs": [],
   "source": [
    "import pandas as pd\n",
    "import numpy as np\n",
    "import matplotlib.pyplot as plt\n",
    "import seaborn as sns\n",
    "%matplotlib inline\n"
   ]
  },
  {
   "cell_type": "markdown",
   "id": "8d8b5b6a",
   "metadata": {
    "papermill": {
     "duration": 0.019981,
     "end_time": "2022-12-28T15:12:02.938210",
     "exception": false,
     "start_time": "2022-12-28T15:12:02.918229",
     "status": "completed"
    },
    "tags": []
   },
   "source": [
    "**#Data_importing**\n"
   ]
  },
  {
   "cell_type": "code",
   "execution_count": 5,
   "id": "334acde3",
   "metadata": {
    "execution": {
     "iopub.execute_input": "2022-12-28T15:12:02.973546Z",
     "iopub.status.busy": "2022-12-28T15:12:02.973054Z",
     "iopub.status.idle": "2022-12-28T15:12:03.022867Z",
     "shell.execute_reply": "2022-12-28T15:12:03.021687Z"
    },
    "papermill": {
     "duration": 0.069386,
     "end_time": "2022-12-28T15:12:03.025400",
     "exception": false,
     "start_time": "2022-12-28T15:12:02.956014",
     "status": "completed"
    },
    "tags": []
   },
   "outputs": [
    {
     "data": {
      "text/html": [
       "<div>\n",
       "<style scoped>\n",
       "    .dataframe tbody tr th:only-of-type {\n",
       "        vertical-align: middle;\n",
       "    }\n",
       "\n",
       "    .dataframe tbody tr th {\n",
       "        vertical-align: top;\n",
       "    }\n",
       "\n",
       "    .dataframe thead th {\n",
       "        text-align: right;\n",
       "    }\n",
       "</style>\n",
       "<table border=\"1\" class=\"dataframe\">\n",
       "  <thead>\n",
       "    <tr style=\"text-align: right;\">\n",
       "      <th></th>\n",
       "      <th>PassengerId</th>\n",
       "      <th>Survived</th>\n",
       "      <th>Pclass</th>\n",
       "      <th>Name</th>\n",
       "      <th>Sex</th>\n",
       "      <th>Age</th>\n",
       "      <th>SibSp</th>\n",
       "      <th>Parch</th>\n",
       "      <th>Ticket</th>\n",
       "      <th>Fare</th>\n",
       "      <th>Cabin</th>\n",
       "      <th>Embarked</th>\n",
       "    </tr>\n",
       "  </thead>\n",
       "  <tbody>\n",
       "    <tr>\n",
       "      <th>0</th>\n",
       "      <td>1</td>\n",
       "      <td>0</td>\n",
       "      <td>3</td>\n",
       "      <td>Braund, Mr. Owen Harris</td>\n",
       "      <td>male</td>\n",
       "      <td>22.0</td>\n",
       "      <td>1</td>\n",
       "      <td>0</td>\n",
       "      <td>A/5 21171</td>\n",
       "      <td>7.2500</td>\n",
       "      <td>NaN</td>\n",
       "      <td>S</td>\n",
       "    </tr>\n",
       "    <tr>\n",
       "      <th>1</th>\n",
       "      <td>2</td>\n",
       "      <td>1</td>\n",
       "      <td>1</td>\n",
       "      <td>Cumings, Mrs. John Bradley (Florence Briggs Th...</td>\n",
       "      <td>female</td>\n",
       "      <td>38.0</td>\n",
       "      <td>1</td>\n",
       "      <td>0</td>\n",
       "      <td>PC 17599</td>\n",
       "      <td>71.2833</td>\n",
       "      <td>C85</td>\n",
       "      <td>C</td>\n",
       "    </tr>\n",
       "    <tr>\n",
       "      <th>2</th>\n",
       "      <td>3</td>\n",
       "      <td>1</td>\n",
       "      <td>3</td>\n",
       "      <td>Heikkinen, Miss. Laina</td>\n",
       "      <td>female</td>\n",
       "      <td>26.0</td>\n",
       "      <td>0</td>\n",
       "      <td>0</td>\n",
       "      <td>STON/O2. 3101282</td>\n",
       "      <td>7.9250</td>\n",
       "      <td>NaN</td>\n",
       "      <td>S</td>\n",
       "    </tr>\n",
       "    <tr>\n",
       "      <th>3</th>\n",
       "      <td>4</td>\n",
       "      <td>1</td>\n",
       "      <td>1</td>\n",
       "      <td>Futrelle, Mrs. Jacques Heath (Lily May Peel)</td>\n",
       "      <td>female</td>\n",
       "      <td>35.0</td>\n",
       "      <td>1</td>\n",
       "      <td>0</td>\n",
       "      <td>113803</td>\n",
       "      <td>53.1000</td>\n",
       "      <td>C123</td>\n",
       "      <td>S</td>\n",
       "    </tr>\n",
       "    <tr>\n",
       "      <th>4</th>\n",
       "      <td>5</td>\n",
       "      <td>0</td>\n",
       "      <td>3</td>\n",
       "      <td>Allen, Mr. William Henry</td>\n",
       "      <td>male</td>\n",
       "      <td>35.0</td>\n",
       "      <td>0</td>\n",
       "      <td>0</td>\n",
       "      <td>373450</td>\n",
       "      <td>8.0500</td>\n",
       "      <td>NaN</td>\n",
       "      <td>S</td>\n",
       "    </tr>\n",
       "    <tr>\n",
       "      <th>...</th>\n",
       "      <td>...</td>\n",
       "      <td>...</td>\n",
       "      <td>...</td>\n",
       "      <td>...</td>\n",
       "      <td>...</td>\n",
       "      <td>...</td>\n",
       "      <td>...</td>\n",
       "      <td>...</td>\n",
       "      <td>...</td>\n",
       "      <td>...</td>\n",
       "      <td>...</td>\n",
       "      <td>...</td>\n",
       "    </tr>\n",
       "    <tr>\n",
       "      <th>886</th>\n",
       "      <td>887</td>\n",
       "      <td>0</td>\n",
       "      <td>2</td>\n",
       "      <td>Montvila, Rev. Juozas</td>\n",
       "      <td>male</td>\n",
       "      <td>27.0</td>\n",
       "      <td>0</td>\n",
       "      <td>0</td>\n",
       "      <td>211536</td>\n",
       "      <td>13.0000</td>\n",
       "      <td>NaN</td>\n",
       "      <td>S</td>\n",
       "    </tr>\n",
       "    <tr>\n",
       "      <th>887</th>\n",
       "      <td>888</td>\n",
       "      <td>1</td>\n",
       "      <td>1</td>\n",
       "      <td>Graham, Miss. Margaret Edith</td>\n",
       "      <td>female</td>\n",
       "      <td>19.0</td>\n",
       "      <td>0</td>\n",
       "      <td>0</td>\n",
       "      <td>112053</td>\n",
       "      <td>30.0000</td>\n",
       "      <td>B42</td>\n",
       "      <td>S</td>\n",
       "    </tr>\n",
       "    <tr>\n",
       "      <th>888</th>\n",
       "      <td>889</td>\n",
       "      <td>0</td>\n",
       "      <td>3</td>\n",
       "      <td>Johnston, Miss. Catherine Helen \"Carrie\"</td>\n",
       "      <td>female</td>\n",
       "      <td>NaN</td>\n",
       "      <td>1</td>\n",
       "      <td>2</td>\n",
       "      <td>W./C. 6607</td>\n",
       "      <td>23.4500</td>\n",
       "      <td>NaN</td>\n",
       "      <td>S</td>\n",
       "    </tr>\n",
       "    <tr>\n",
       "      <th>889</th>\n",
       "      <td>890</td>\n",
       "      <td>1</td>\n",
       "      <td>1</td>\n",
       "      <td>Behr, Mr. Karl Howell</td>\n",
       "      <td>male</td>\n",
       "      <td>26.0</td>\n",
       "      <td>0</td>\n",
       "      <td>0</td>\n",
       "      <td>111369</td>\n",
       "      <td>30.0000</td>\n",
       "      <td>C148</td>\n",
       "      <td>C</td>\n",
       "    </tr>\n",
       "    <tr>\n",
       "      <th>890</th>\n",
       "      <td>891</td>\n",
       "      <td>0</td>\n",
       "      <td>3</td>\n",
       "      <td>Dooley, Mr. Patrick</td>\n",
       "      <td>male</td>\n",
       "      <td>32.0</td>\n",
       "      <td>0</td>\n",
       "      <td>0</td>\n",
       "      <td>370376</td>\n",
       "      <td>7.7500</td>\n",
       "      <td>NaN</td>\n",
       "      <td>Q</td>\n",
       "    </tr>\n",
       "  </tbody>\n",
       "</table>\n",
       "<p>891 rows × 12 columns</p>\n",
       "</div>"
      ],
      "text/plain": [
       "     PassengerId  Survived  Pclass  \\\n",
       "0              1         0       3   \n",
       "1              2         1       1   \n",
       "2              3         1       3   \n",
       "3              4         1       1   \n",
       "4              5         0       3   \n",
       "..           ...       ...     ...   \n",
       "886          887         0       2   \n",
       "887          888         1       1   \n",
       "888          889         0       3   \n",
       "889          890         1       1   \n",
       "890          891         0       3   \n",
       "\n",
       "                                                  Name     Sex   Age  SibSp  \\\n",
       "0                              Braund, Mr. Owen Harris    male  22.0      1   \n",
       "1    Cumings, Mrs. John Bradley (Florence Briggs Th...  female  38.0      1   \n",
       "2                               Heikkinen, Miss. Laina  female  26.0      0   \n",
       "3         Futrelle, Mrs. Jacques Heath (Lily May Peel)  female  35.0      1   \n",
       "4                             Allen, Mr. William Henry    male  35.0      0   \n",
       "..                                                 ...     ...   ...    ...   \n",
       "886                              Montvila, Rev. Juozas    male  27.0      0   \n",
       "887                       Graham, Miss. Margaret Edith  female  19.0      0   \n",
       "888           Johnston, Miss. Catherine Helen \"Carrie\"  female   NaN      1   \n",
       "889                              Behr, Mr. Karl Howell    male  26.0      0   \n",
       "890                                Dooley, Mr. Patrick    male  32.0      0   \n",
       "\n",
       "     Parch            Ticket     Fare Cabin Embarked  \n",
       "0        0         A/5 21171   7.2500   NaN        S  \n",
       "1        0          PC 17599  71.2833   C85        C  \n",
       "2        0  STON/O2. 3101282   7.9250   NaN        S  \n",
       "3        0            113803  53.1000  C123        S  \n",
       "4        0            373450   8.0500   NaN        S  \n",
       "..     ...               ...      ...   ...      ...  \n",
       "886      0            211536  13.0000   NaN        S  \n",
       "887      0            112053  30.0000   B42        S  \n",
       "888      2        W./C. 6607  23.4500   NaN        S  \n",
       "889      0            111369  30.0000  C148        C  \n",
       "890      0            370376   7.7500   NaN        Q  \n",
       "\n",
       "[891 rows x 12 columns]"
      ]
     },
     "execution_count": 5,
     "metadata": {},
     "output_type": "execute_result"
    }
   ],
   "source": [
    " titanic = pd.read_csv('train.csv')\n",
    "titanic"
   ]
  },
  {
   "cell_type": "code",
   "execution_count": 6,
   "id": "5d0d53f6",
   "metadata": {
    "execution": {
     "iopub.execute_input": "2022-12-28T15:12:03.059119Z",
     "iopub.status.busy": "2022-12-28T15:12:03.058682Z",
     "iopub.status.idle": "2022-12-28T15:12:03.085611Z",
     "shell.execute_reply": "2022-12-28T15:12:03.084283Z"
    },
    "papermill": {
     "duration": 0.047408,
     "end_time": "2022-12-28T15:12:03.088898",
     "exception": false,
     "start_time": "2022-12-28T15:12:03.041490",
     "status": "completed"
    },
    "tags": []
   },
   "outputs": [
    {
     "name": "stdout",
     "output_type": "stream",
     "text": [
      "<class 'pandas.core.frame.DataFrame'>\n",
      "RangeIndex: 891 entries, 0 to 890\n",
      "Data columns (total 12 columns):\n",
      " #   Column       Non-Null Count  Dtype  \n",
      "---  ------       --------------  -----  \n",
      " 0   PassengerId  891 non-null    int64  \n",
      " 1   Survived     891 non-null    int64  \n",
      " 2   Pclass       891 non-null    int64  \n",
      " 3   Name         891 non-null    object \n",
      " 4   Sex          891 non-null    object \n",
      " 5   Age          714 non-null    float64\n",
      " 6   SibSp        891 non-null    int64  \n",
      " 7   Parch        891 non-null    int64  \n",
      " 8   Ticket       891 non-null    object \n",
      " 9   Fare         891 non-null    float64\n",
      " 10  Cabin        204 non-null    object \n",
      " 11  Embarked     889 non-null    object \n",
      "dtypes: float64(2), int64(5), object(5)\n",
      "memory usage: 83.7+ KB\n"
     ]
    }
   ],
   "source": [
    "titanic.info()"
   ]
  },
  {
   "cell_type": "code",
   "execution_count": 7,
   "id": "7d924ff0",
   "metadata": {
    "execution": {
     "iopub.execute_input": "2022-12-28T15:12:03.124492Z",
     "iopub.status.busy": "2022-12-28T15:12:03.123419Z",
     "iopub.status.idle": "2022-12-28T15:12:03.162280Z",
     "shell.execute_reply": "2022-12-28T15:12:03.161083Z"
    },
    "papermill": {
     "duration": 0.059195,
     "end_time": "2022-12-28T15:12:03.165059",
     "exception": false,
     "start_time": "2022-12-28T15:12:03.105864",
     "status": "completed"
    },
    "tags": []
   },
   "outputs": [
    {
     "data": {
      "text/html": [
       "<div>\n",
       "<style scoped>\n",
       "    .dataframe tbody tr th:only-of-type {\n",
       "        vertical-align: middle;\n",
       "    }\n",
       "\n",
       "    .dataframe tbody tr th {\n",
       "        vertical-align: top;\n",
       "    }\n",
       "\n",
       "    .dataframe thead th {\n",
       "        text-align: right;\n",
       "    }\n",
       "</style>\n",
       "<table border=\"1\" class=\"dataframe\">\n",
       "  <thead>\n",
       "    <tr style=\"text-align: right;\">\n",
       "      <th></th>\n",
       "      <th>PassengerId</th>\n",
       "      <th>Survived</th>\n",
       "      <th>Pclass</th>\n",
       "      <th>Age</th>\n",
       "      <th>SibSp</th>\n",
       "      <th>Parch</th>\n",
       "      <th>Fare</th>\n",
       "    </tr>\n",
       "  </thead>\n",
       "  <tbody>\n",
       "    <tr>\n",
       "      <th>count</th>\n",
       "      <td>891.0</td>\n",
       "      <td>891.0</td>\n",
       "      <td>891.0</td>\n",
       "      <td>714.0</td>\n",
       "      <td>891.0</td>\n",
       "      <td>891.0</td>\n",
       "      <td>891.0</td>\n",
       "    </tr>\n",
       "    <tr>\n",
       "      <th>mean</th>\n",
       "      <td>446.0</td>\n",
       "      <td>0.4</td>\n",
       "      <td>2.3</td>\n",
       "      <td>29.7</td>\n",
       "      <td>0.5</td>\n",
       "      <td>0.4</td>\n",
       "      <td>32.2</td>\n",
       "    </tr>\n",
       "    <tr>\n",
       "      <th>std</th>\n",
       "      <td>257.4</td>\n",
       "      <td>0.5</td>\n",
       "      <td>0.8</td>\n",
       "      <td>14.5</td>\n",
       "      <td>1.1</td>\n",
       "      <td>0.8</td>\n",
       "      <td>49.7</td>\n",
       "    </tr>\n",
       "    <tr>\n",
       "      <th>min</th>\n",
       "      <td>1.0</td>\n",
       "      <td>0.0</td>\n",
       "      <td>1.0</td>\n",
       "      <td>0.4</td>\n",
       "      <td>0.0</td>\n",
       "      <td>0.0</td>\n",
       "      <td>0.0</td>\n",
       "    </tr>\n",
       "    <tr>\n",
       "      <th>25%</th>\n",
       "      <td>223.5</td>\n",
       "      <td>0.0</td>\n",
       "      <td>2.0</td>\n",
       "      <td>20.1</td>\n",
       "      <td>0.0</td>\n",
       "      <td>0.0</td>\n",
       "      <td>7.9</td>\n",
       "    </tr>\n",
       "    <tr>\n",
       "      <th>50%</th>\n",
       "      <td>446.0</td>\n",
       "      <td>0.0</td>\n",
       "      <td>3.0</td>\n",
       "      <td>28.0</td>\n",
       "      <td>0.0</td>\n",
       "      <td>0.0</td>\n",
       "      <td>14.5</td>\n",
       "    </tr>\n",
       "    <tr>\n",
       "      <th>75%</th>\n",
       "      <td>668.5</td>\n",
       "      <td>1.0</td>\n",
       "      <td>3.0</td>\n",
       "      <td>38.0</td>\n",
       "      <td>1.0</td>\n",
       "      <td>0.0</td>\n",
       "      <td>31.0</td>\n",
       "    </tr>\n",
       "    <tr>\n",
       "      <th>max</th>\n",
       "      <td>891.0</td>\n",
       "      <td>1.0</td>\n",
       "      <td>3.0</td>\n",
       "      <td>80.0</td>\n",
       "      <td>8.0</td>\n",
       "      <td>6.0</td>\n",
       "      <td>512.3</td>\n",
       "    </tr>\n",
       "  </tbody>\n",
       "</table>\n",
       "</div>"
      ],
      "text/plain": [
       "       PassengerId  Survived  Pclass    Age  SibSp  Parch   Fare\n",
       "count        891.0     891.0   891.0  714.0  891.0  891.0  891.0\n",
       "mean         446.0       0.4     2.3   29.7    0.5    0.4   32.2\n",
       "std          257.4       0.5     0.8   14.5    1.1    0.8   49.7\n",
       "min            1.0       0.0     1.0    0.4    0.0    0.0    0.0\n",
       "25%          223.5       0.0     2.0   20.1    0.0    0.0    7.9\n",
       "50%          446.0       0.0     3.0   28.0    0.0    0.0   14.5\n",
       "75%          668.5       1.0     3.0   38.0    1.0    0.0   31.0\n",
       "max          891.0       1.0     3.0   80.0    8.0    6.0  512.3"
      ]
     },
     "execution_count": 7,
     "metadata": {},
     "output_type": "execute_result"
    }
   ],
   "source": [
    "titanic.describe().round(1)"
   ]
  },
  {
   "cell_type": "markdown",
   "id": "e9a86adf",
   "metadata": {
    "papermill": {
     "duration": 0.016249,
     "end_time": "2022-12-28T15:12:03.197931",
     "exception": false,
     "start_time": "2022-12-28T15:12:03.181682",
     "status": "completed"
    },
    "tags": []
   },
   "source": [
    "**#Data Cleaning &Pre-processing**"
   ]
  },
  {
   "cell_type": "markdown",
   "id": "381fba3c",
   "metadata": {
    "papermill": {
     "duration": 0.015905,
     "end_time": "2022-12-28T15:12:03.230137",
     "exception": false,
     "start_time": "2022-12-28T15:12:03.214232",
     "status": "completed"
    },
    "tags": []
   },
   "source": [
    ">  Dealing with Missing Data "
   ]
  },
  {
   "cell_type": "code",
   "execution_count": 8,
   "id": "c7e7fe42",
   "metadata": {
    "execution": {
     "iopub.execute_input": "2022-12-28T15:12:03.264687Z",
     "iopub.status.busy": "2022-12-28T15:12:03.263895Z",
     "iopub.status.idle": "2022-12-28T15:12:03.273308Z",
     "shell.execute_reply": "2022-12-28T15:12:03.272503Z"
    },
    "papermill": {
     "duration": 0.029116,
     "end_time": "2022-12-28T15:12:03.275404",
     "exception": false,
     "start_time": "2022-12-28T15:12:03.246288",
     "status": "completed"
    },
    "tags": []
   },
   "outputs": [
    {
     "data": {
      "text/plain": [
       "PassengerId      0\n",
       "Survived         0\n",
       "Pclass           0\n",
       "Name             0\n",
       "Sex              0\n",
       "Age            177\n",
       "SibSp            0\n",
       "Parch            0\n",
       "Ticket           0\n",
       "Fare             0\n",
       "Cabin          687\n",
       "Embarked         2\n",
       "dtype: int64"
      ]
     },
     "execution_count": 8,
     "metadata": {},
     "output_type": "execute_result"
    }
   ],
   "source": [
    " titanic.isna().sum()"
   ]
  },
  {
   "cell_type": "code",
   "execution_count": 9,
   "id": "a05c2e02",
   "metadata": {
    "execution": {
     "iopub.execute_input": "2022-12-28T15:12:03.310063Z",
     "iopub.status.busy": "2022-12-28T15:12:03.308918Z",
     "iopub.status.idle": "2022-12-28T15:12:03.729668Z",
     "shell.execute_reply": "2022-12-28T15:12:03.728431Z"
    },
    "papermill": {
     "duration": 0.440598,
     "end_time": "2022-12-28T15:12:03.732163",
     "exception": false,
     "start_time": "2022-12-28T15:12:03.291565",
     "status": "completed"
    },
    "tags": []
   },
   "outputs": [
    {
     "data": {
      "text/plain": [
       "<Axes: >"
      ]
     },
     "execution_count": 9,
     "metadata": {},
     "output_type": "execute_result"
    },
    {
     "data": {
      "image/png": "[encoded data removed]",
      "text/plain": [
       "<Figure size 640x480 with 2 Axes>"
      ]
     },
     "metadata": {},
     "output_type": "display_data"
    }
   ],
   "source": [
    "sns.heatmap(titanic.isna())"
   ]
  },
  {
   "cell_type": "code",
   "execution_count": 10,
   "id": "c5363174",
   "metadata": {
    "execution": {
     "iopub.execute_input": "2022-12-28T15:12:03.768089Z",
     "iopub.status.busy": "2022-12-28T15:12:03.767340Z",
     "iopub.status.idle": "2022-12-28T15:12:03.774767Z",
     "shell.execute_reply": "2022-12-28T15:12:03.773678Z"
    },
    "papermill": {
     "duration": 0.027832,
     "end_time": "2022-12-28T15:12:03.777067",
     "exception": false,
     "start_time": "2022-12-28T15:12:03.749235",
     "status": "completed"
    },
    "tags": []
   },
   "outputs": [],
   "source": [
    "titanic['Age']=titanic['Age'].fillna(titanic['Age'].mean())\n",
    "# type object so we use count & it not necessary it wont be effective at result \n",
    "titanic['Cabin']=titanic['Cabin'].fillna(titanic['Cabin'].count())\n",
    "\n",
    "# titanic['Embarked']=titanic['Embarked'].fillna(titanic['Embarked'].count())\n",
    "\n",
    "\n"
   ]
  },
  {
   "cell_type": "code",
   "execution_count": 11,
   "id": "5c5ef8c0",
   "metadata": {
    "execution": {
     "iopub.execute_input": "2022-12-28T15:12:03.812803Z",
     "iopub.status.busy": "2022-12-28T15:12:03.812376Z",
     "iopub.status.idle": "2022-12-28T15:12:04.190404Z",
     "shell.execute_reply": "2022-12-28T15:12:04.188979Z"
    },
    "papermill": {
     "duration": 0.399107,
     "end_time": "2022-12-28T15:12:04.193014",
     "exception": false,
     "start_time": "2022-12-28T15:12:03.793907",
     "status": "completed"
    },
    "tags": []
   },
   "outputs": [
    {
     "data": {
      "text/plain": [
       "<Axes: >"
      ]
     },
     "execution_count": 11,
     "metadata": {},
     "output_type": "execute_result"
    },
    {
     "data": {
      "image/png": "[encoded data removed]",
      "text/plain": [
       "<Figure size 640x480 with 2 Axes>"
      ]
     },
     "metadata": {},
     "output_type": "display_data"
    }
   ],
   "source": [
    "sns.heatmap(titanic.isna())"
   ]
  },
  {
   "cell_type": "code",
   "execution_count": 12,
   "id": "434d2353",
   "metadata": {
    "execution": {
     "iopub.execute_input": "2022-12-28T15:12:04.230251Z",
     "iopub.status.busy": "2022-12-28T15:12:04.229837Z",
     "iopub.status.idle": "2022-12-28T15:12:04.233722Z",
     "shell.execute_reply": "2022-12-28T15:12:04.232753Z"
    },
    "papermill": {
     "duration": 0.025061,
     "end_time": "2022-12-28T15:12:04.236078",
     "exception": false,
     "start_time": "2022-12-28T15:12:04.211017",
     "status": "completed"
    },
    "tags": []
   },
   "outputs": [],
   "source": [
    "#not effective so we can remove it\n",
    "#titanic.drop('Cabin',axis=1,inplace=True)\n",
    "#titanic.drop('Embarked',axis=1,inplace=True)"
   ]
  },
  {
   "cell_type": "code",
   "execution_count": 13,
   "id": "c8c3de2e",
   "metadata": {
    "execution": {
     "iopub.execute_input": "2022-12-28T15:12:04.272640Z",
     "iopub.status.busy": "2022-12-28T15:12:04.272248Z",
     "iopub.status.idle": "2022-12-28T15:12:04.748607Z",
     "shell.execute_reply": "2022-12-28T15:12:04.747395Z"
    },
    "papermill": {
     "duration": 0.497911,
     "end_time": "2022-12-28T15:12:04.751219",
     "exception": false,
     "start_time": "2022-12-28T15:12:04.253308",
     "status": "completed"
    },
    "tags": []
   },
   "outputs": [
    {
     "data": {
      "text/plain": [
       "<Axes: >"
      ]
     },
     "execution_count": 13,
     "metadata": {},
     "output_type": "execute_result"
    },
    {
     "data": {
      "image/png": "[encoded data removed]",
      "text/plain": [
       "<Figure size 640x480 with 2 Axes>"
      ]
     },
     "metadata": {},
     "output_type": "display_data"
    }
   ],
   "source": [
    "sns.heatmap(titanic.isna())"
   ]
  },
  {
   "cell_type": "code",
   "execution_count": 14,
   "id": "28dc9734",
   "metadata": {
    "execution": {
     "iopub.execute_input": "2022-12-28T15:12:04.789714Z",
     "iopub.status.busy": "2022-12-28T15:12:04.789281Z",
     "iopub.status.idle": "2022-12-28T15:12:04.806089Z",
     "shell.execute_reply": "2022-12-28T15:12:04.804881Z"
    },
    "papermill": {
     "duration": 0.039172,
     "end_time": "2022-12-28T15:12:04.808705",
     "exception": false,
     "start_time": "2022-12-28T15:12:04.769533",
     "status": "completed"
    },
    "tags": []
   },
   "outputs": [
    {
     "data": {
      "text/html": [
       "<div>\n",
       "<style scoped>\n",
       "    .dataframe tbody tr th:only-of-type {\n",
       "        vertical-align: middle;\n",
       "    }\n",
       "\n",
       "    .dataframe tbody tr th {\n",
       "        vertical-align: top;\n",
       "    }\n",
       "\n",
       "    .dataframe thead th {\n",
       "        text-align: right;\n",
       "    }\n",
       "</style>\n",
       "<table border=\"1\" class=\"dataframe\">\n",
       "  <thead>\n",
       "    <tr style=\"text-align: right;\">\n",
       "      <th></th>\n",
       "      <th>PassengerId</th>\n",
       "      <th>Survived</th>\n",
       "      <th>Pclass</th>\n",
       "      <th>Name</th>\n",
       "      <th>Sex</th>\n",
       "      <th>Age</th>\n",
       "      <th>SibSp</th>\n",
       "      <th>Parch</th>\n",
       "      <th>Ticket</th>\n",
       "      <th>Fare</th>\n",
       "      <th>Cabin</th>\n",
       "      <th>Embarked</th>\n",
       "    </tr>\n",
       "  </thead>\n",
       "  <tbody>\n",
       "    <tr>\n",
       "      <th>0</th>\n",
       "      <td>1</td>\n",
       "      <td>0</td>\n",
       "      <td>3</td>\n",
       "      <td>Braund, Mr. Owen Harris</td>\n",
       "      <td>male</td>\n",
       "      <td>22.0</td>\n",
       "      <td>1</td>\n",
       "      <td>0</td>\n",
       "      <td>A/5 21171</td>\n",
       "      <td>7.2500</td>\n",
       "      <td>204</td>\n",
       "      <td>S</td>\n",
       "    </tr>\n",
       "    <tr>\n",
       "      <th>1</th>\n",
       "      <td>2</td>\n",
       "      <td>1</td>\n",
       "      <td>1</td>\n",
       "      <td>Cumings, Mrs. John Bradley (Florence Briggs Th...</td>\n",
       "      <td>female</td>\n",
       "      <td>38.0</td>\n",
       "      <td>1</td>\n",
       "      <td>0</td>\n",
       "      <td>PC 17599</td>\n",
       "      <td>71.2833</td>\n",
       "      <td>C85</td>\n",
       "      <td>C</td>\n",
       "    </tr>\n",
       "    <tr>\n",
       "      <th>2</th>\n",
       "      <td>3</td>\n",
       "      <td>1</td>\n",
       "      <td>3</td>\n",
       "      <td>Heikkinen, Miss. Laina</td>\n",
       "      <td>female</td>\n",
       "      <td>26.0</td>\n",
       "      <td>0</td>\n",
       "      <td>0</td>\n",
       "      <td>STON/O2. 3101282</td>\n",
       "      <td>7.9250</td>\n",
       "      <td>204</td>\n",
       "      <td>S</td>\n",
       "    </tr>\n",
       "    <tr>\n",
       "      <th>3</th>\n",
       "      <td>4</td>\n",
       "      <td>1</td>\n",
       "      <td>1</td>\n",
       "      <td>Futrelle, Mrs. Jacques Heath (Lily May Peel)</td>\n",
       "      <td>female</td>\n",
       "      <td>35.0</td>\n",
       "      <td>1</td>\n",
       "      <td>0</td>\n",
       "      <td>113803</td>\n",
       "      <td>53.1000</td>\n",
       "      <td>C123</td>\n",
       "      <td>S</td>\n",
       "    </tr>\n",
       "    <tr>\n",
       "      <th>4</th>\n",
       "      <td>5</td>\n",
       "      <td>0</td>\n",
       "      <td>3</td>\n",
       "      <td>Allen, Mr. William Henry</td>\n",
       "      <td>male</td>\n",
       "      <td>35.0</td>\n",
       "      <td>0</td>\n",
       "      <td>0</td>\n",
       "      <td>373450</td>\n",
       "      <td>8.0500</td>\n",
       "      <td>204</td>\n",
       "      <td>S</td>\n",
       "    </tr>\n",
       "  </tbody>\n",
       "</table>\n",
       "</div>"
      ],
      "text/plain": [
       "   PassengerId  Survived  Pclass  \\\n",
       "0            1         0       3   \n",
       "1            2         1       1   \n",
       "2            3         1       3   \n",
       "3            4         1       1   \n",
       "4            5         0       3   \n",
       "\n",
       "                                                Name     Sex   Age  SibSp  \\\n",
       "0                            Braund, Mr. Owen Harris    male  22.0      1   \n",
       "1  Cumings, Mrs. John Bradley (Florence Briggs Th...  female  38.0      1   \n",
       "2                             Heikkinen, Miss. Laina  female  26.0      0   \n",
       "3       Futrelle, Mrs. Jacques Heath (Lily May Peel)  female  35.0      1   \n",
       "4                           Allen, Mr. William Henry    male  35.0      0   \n",
       "\n",
       "   Parch            Ticket     Fare Cabin Embarked  \n",
       "0      0         A/5 21171   7.2500   204        S  \n",
       "1      0          PC 17599  71.2833   C85        C  \n",
       "2      0  STON/O2. 3101282   7.9250   204        S  \n",
       "3      0            113803  53.1000  C123        S  \n",
       "4      0            373450   8.0500   204        S  "
      ]
     },
     "execution_count": 14,
     "metadata": {},
     "output_type": "execute_result"
    }
   ],
   "source": [
    "titanic.head()"
   ]
  },
  {
   "cell_type": "code",
   "execution_count": 15,
   "id": "6751ffb3",
   "metadata": {
    "execution": {
     "iopub.execute_input": "2022-12-28T15:12:04.849020Z",
     "iopub.status.busy": "2022-12-28T15:12:04.848552Z",
     "iopub.status.idle": "2022-12-28T15:12:04.862066Z",
     "shell.execute_reply": "2022-12-28T15:12:04.860839Z"
    },
    "papermill": {
     "duration": 0.036977,
     "end_time": "2022-12-28T15:12:04.864802",
     "exception": false,
     "start_time": "2022-12-28T15:12:04.827825",
     "status": "completed"
    },
    "tags": []
   },
   "outputs": [
    {
     "name": "stdout",
     "output_type": "stream",
     "text": [
      "<class 'pandas.core.frame.DataFrame'>\n",
      "RangeIndex: 891 entries, 0 to 890\n",
      "Data columns (total 12 columns):\n",
      " #   Column       Non-Null Count  Dtype  \n",
      "---  ------       --------------  -----  \n",
      " 0   PassengerId  891 non-null    int64  \n",
      " 1   Survived     891 non-null    int64  \n",
      " 2   Pclass       891 non-null    int64  \n",
      " 3   Name         891 non-null    object \n",
      " 4   Sex          891 non-null    object \n",
      " 5   Age          891 non-null    float64\n",
      " 6   SibSp        891 non-null    int64  \n",
      " 7   Parch        891 non-null    int64  \n",
      " 8   Ticket       891 non-null    object \n",
      " 9   Fare         891 non-null    float64\n",
      " 10  Cabin        891 non-null    object \n",
      " 11  Embarked     889 non-null    object \n",
      "dtypes: float64(2), int64(5), object(5)\n",
      "memory usage: 83.7+ KB\n"
     ]
    }
   ],
   "source": [
    "titanic .info()"
   ]
  },
  {
   "cell_type": "markdown",
   "id": "3ab9341f",
   "metadata": {
    "papermill": {
     "duration": 0.017632,
     "end_time": "2022-12-28T15:12:04.900676",
     "exception": false,
     "start_time": "2022-12-28T15:12:04.883044",
     "status": "completed"
    },
    "tags": []
   },
   "source": [
    "> Converting Categorical Features"
   ]
  },
  {
   "cell_type": "code",
   "execution_count": 16,
   "id": "d452ecb5",
   "metadata": {
    "execution": {
     "iopub.execute_input": "2022-12-28T15:12:04.938834Z",
     "iopub.status.busy": "2022-12-28T15:12:04.938448Z",
     "iopub.status.idle": "2022-12-28T15:12:04.947747Z",
     "shell.execute_reply": "2022-12-28T15:12:04.946394Z"
    },
    "papermill": {
     "duration": 0.031468,
     "end_time": "2022-12-28T15:12:04.950285",
     "exception": false,
     "start_time": "2022-12-28T15:12:04.918817",
     "status": "completed"
    },
    "tags": []
   },
   "outputs": [
    {
     "data": {
      "text/plain": [
       "male      577\n",
       "female    314\n",
       "Name: Sex, dtype: int64"
      ]
     },
     "execution_count": 16,
     "metadata": {},
     "output_type": "execute_result"
    }
   ],
   "source": [
    "titanic['Sex'].value_counts()"
   ]
  },
  {
   "cell_type": "code",
   "execution_count": 17,
   "id": "5db18723",
   "metadata": {
    "execution": {
     "iopub.execute_input": "2022-12-28T15:12:04.988966Z",
     "iopub.status.busy": "2022-12-28T15:12:04.988601Z",
     "iopub.status.idle": "2022-12-28T15:12:04.996800Z",
     "shell.execute_reply": "2022-12-28T15:12:04.995705Z"
    },
    "papermill": {
     "duration": 0.029934,
     "end_time": "2022-12-28T15:12:04.998902",
     "exception": false,
     "start_time": "2022-12-28T15:12:04.968968",
     "status": "completed"
    },
    "tags": []
   },
   "outputs": [
    {
     "data": {
      "text/plain": [
       "S    644\n",
       "C    168\n",
       "Q     77\n",
       "Name: Embarked, dtype: int64"
      ]
     },
     "execution_count": 17,
     "metadata": {},
     "output_type": "execute_result"
    }
   ],
   "source": [
    "titanic['Embarked'].value_counts()"
   ]
  },
  {
   "cell_type": "code",
   "execution_count": 18,
   "id": "c8b3a8d5",
   "metadata": {
    "execution": {
     "iopub.execute_input": "2022-12-28T15:12:05.039058Z",
     "iopub.status.busy": "2022-12-28T15:12:05.037739Z",
     "iopub.status.idle": "2022-12-28T15:12:05.051247Z",
     "shell.execute_reply": "2022-12-28T15:12:05.050157Z"
    },
    "papermill": {
     "duration": 0.036252,
     "end_time": "2022-12-28T15:12:05.053762",
     "exception": false,
     "start_time": "2022-12-28T15:12:05.017510",
     "status": "completed"
    },
    "tags": []
   },
   "outputs": [
    {
     "data": {
      "text/html": [
       "<div>\n",
       "<style scoped>\n",
       "    .dataframe tbody tr th:only-of-type {\n",
       "        vertical-align: middle;\n",
       "    }\n",
       "\n",
       "    .dataframe tbody tr th {\n",
       "        vertical-align: top;\n",
       "    }\n",
       "\n",
       "    .dataframe thead th {\n",
       "        text-align: right;\n",
       "    }\n",
       "</style>\n",
       "<table border=\"1\" class=\"dataframe\">\n",
       "  <thead>\n",
       "    <tr style=\"text-align: right;\">\n",
       "      <th></th>\n",
       "      <th>male</th>\n",
       "    </tr>\n",
       "  </thead>\n",
       "  <tbody>\n",
       "    <tr>\n",
       "      <th>0</th>\n",
       "      <td>1</td>\n",
       "    </tr>\n",
       "    <tr>\n",
       "      <th>1</th>\n",
       "      <td>0</td>\n",
       "    </tr>\n",
       "    <tr>\n",
       "      <th>2</th>\n",
       "      <td>0</td>\n",
       "    </tr>\n",
       "    <tr>\n",
       "      <th>3</th>\n",
       "      <td>0</td>\n",
       "    </tr>\n",
       "    <tr>\n",
       "      <th>4</th>\n",
       "      <td>1</td>\n",
       "    </tr>\n",
       "    <tr>\n",
       "      <th>...</th>\n",
       "      <td>...</td>\n",
       "    </tr>\n",
       "    <tr>\n",
       "      <th>886</th>\n",
       "      <td>1</td>\n",
       "    </tr>\n",
       "    <tr>\n",
       "      <th>887</th>\n",
       "      <td>0</td>\n",
       "    </tr>\n",
       "    <tr>\n",
       "      <th>888</th>\n",
       "      <td>0</td>\n",
       "    </tr>\n",
       "    <tr>\n",
       "      <th>889</th>\n",
       "      <td>1</td>\n",
       "    </tr>\n",
       "    <tr>\n",
       "      <th>890</th>\n",
       "      <td>1</td>\n",
       "    </tr>\n",
       "  </tbody>\n",
       "</table>\n",
       "<p>891 rows × 1 columns</p>\n",
       "</div>"
      ],
      "text/plain": [
       "     male\n",
       "0       1\n",
       "1       0\n",
       "2       0\n",
       "3       0\n",
       "4       1\n",
       "..    ...\n",
       "886     1\n",
       "887     0\n",
       "888     0\n",
       "889     1\n",
       "890     1\n",
       "\n",
       "[891 rows x 1 columns]"
      ]
     },
     "execution_count": 18,
     "metadata": {},
     "output_type": "execute_result"
    }
   ],
   "source": [
    "#encoding sex(1||0)\n",
    "sex=pd.get_dummies(titanic['Sex'],drop_first=True)\n",
    "sex\n"
   ]
  },
  {
   "cell_type": "code",
   "execution_count": 19,
   "id": "5b3ff691",
   "metadata": {
    "execution": {
     "iopub.execute_input": "2022-12-28T15:12:05.093180Z",
     "iopub.status.busy": "2022-12-28T15:12:05.092794Z",
     "iopub.status.idle": "2022-12-28T15:12:05.107196Z",
     "shell.execute_reply": "2022-12-28T15:12:05.106028Z"
    },
    "papermill": {
     "duration": 0.036769,
     "end_time": "2022-12-28T15:12:05.109544",
     "exception": false,
     "start_time": "2022-12-28T15:12:05.072775",
     "status": "completed"
    },
    "tags": []
   },
   "outputs": [
    {
     "data": {
      "text/html": [
       "<div>\n",
       "<style scoped>\n",
       "    .dataframe tbody tr th:only-of-type {\n",
       "        vertical-align: middle;\n",
       "    }\n",
       "\n",
       "    .dataframe tbody tr th {\n",
       "        vertical-align: top;\n",
       "    }\n",
       "\n",
       "    .dataframe thead th {\n",
       "        text-align: right;\n",
       "    }\n",
       "</style>\n",
       "<table border=\"1\" class=\"dataframe\">\n",
       "  <thead>\n",
       "    <tr style=\"text-align: right;\">\n",
       "      <th></th>\n",
       "      <th>C</th>\n",
       "      <th>Q</th>\n",
       "      <th>S</th>\n",
       "    </tr>\n",
       "  </thead>\n",
       "  <tbody>\n",
       "    <tr>\n",
       "      <th>0</th>\n",
       "      <td>0</td>\n",
       "      <td>0</td>\n",
       "      <td>1</td>\n",
       "    </tr>\n",
       "    <tr>\n",
       "      <th>1</th>\n",
       "      <td>1</td>\n",
       "      <td>0</td>\n",
       "      <td>0</td>\n",
       "    </tr>\n",
       "    <tr>\n",
       "      <th>2</th>\n",
       "      <td>0</td>\n",
       "      <td>0</td>\n",
       "      <td>1</td>\n",
       "    </tr>\n",
       "    <tr>\n",
       "      <th>3</th>\n",
       "      <td>0</td>\n",
       "      <td>0</td>\n",
       "      <td>1</td>\n",
       "    </tr>\n",
       "    <tr>\n",
       "      <th>4</th>\n",
       "      <td>0</td>\n",
       "      <td>0</td>\n",
       "      <td>1</td>\n",
       "    </tr>\n",
       "    <tr>\n",
       "      <th>...</th>\n",
       "      <td>...</td>\n",
       "      <td>...</td>\n",
       "      <td>...</td>\n",
       "    </tr>\n",
       "    <tr>\n",
       "      <th>886</th>\n",
       "      <td>0</td>\n",
       "      <td>0</td>\n",
       "      <td>1</td>\n",
       "    </tr>\n",
       "    <tr>\n",
       "      <th>887</th>\n",
       "      <td>0</td>\n",
       "      <td>0</td>\n",
       "      <td>1</td>\n",
       "    </tr>\n",
       "    <tr>\n",
       "      <th>888</th>\n",
       "      <td>0</td>\n",
       "      <td>0</td>\n",
       "      <td>1</td>\n",
       "    </tr>\n",
       "    <tr>\n",
       "      <th>889</th>\n",
       "      <td>1</td>\n",
       "      <td>0</td>\n",
       "      <td>0</td>\n",
       "    </tr>\n",
       "    <tr>\n",
       "      <th>890</th>\n",
       "      <td>0</td>\n",
       "      <td>1</td>\n",
       "      <td>0</td>\n",
       "    </tr>\n",
       "  </tbody>\n",
       "</table>\n",
       "<p>891 rows × 3 columns</p>\n",
       "</div>"
      ],
      "text/plain": [
       "     C  Q  S\n",
       "0    0  0  1\n",
       "1    1  0  0\n",
       "2    0  0  1\n",
       "3    0  0  1\n",
       "4    0  0  1\n",
       "..  .. .. ..\n",
       "886  0  0  1\n",
       "887  0  0  1\n",
       "888  0  0  1\n",
       "889  1  0  0\n",
       "890  0  1  0\n",
       "\n",
       "[891 rows x 3 columns]"
      ]
     },
     "execution_count": 19,
     "metadata": {},
     "output_type": "execute_result"
    }
   ],
   "source": [
    "#encoding sex(1||0)\n",
    "Embark=pd.get_dummies(titanic['Embarked'] )\n",
    "Embark"
   ]
  },
  {
   "cell_type": "code",
   "execution_count": 20,
   "id": "60420d82",
   "metadata": {
    "execution": {
     "iopub.execute_input": "2022-12-28T15:12:05.150128Z",
     "iopub.status.busy": "2022-12-28T15:12:05.149721Z",
     "iopub.status.idle": "2022-12-28T15:12:05.157828Z",
     "shell.execute_reply": "2022-12-28T15:12:05.156581Z"
    },
    "papermill": {
     "duration": 0.030626,
     "end_time": "2022-12-28T15:12:05.160144",
     "exception": false,
     "start_time": "2022-12-28T15:12:05.129518",
     "status": "completed"
    },
    "tags": []
   },
   "outputs": [],
   "source": [
    "#Merge\n",
    "titanic=pd.concat([titanic,sex,Embark],axis=1)\n"
   ]
  },
  {
   "cell_type": "code",
   "execution_count": 21,
   "id": "ba9da6dd",
   "metadata": {
    "execution": {
     "iopub.execute_input": "2022-12-28T15:12:05.200736Z",
     "iopub.status.busy": "2022-12-28T15:12:05.200058Z",
     "iopub.status.idle": "2022-12-28T15:12:05.223984Z",
     "shell.execute_reply": "2022-12-28T15:12:05.223149Z"
    },
    "papermill": {
     "duration": 0.046712,
     "end_time": "2022-12-28T15:12:05.226182",
     "exception": false,
     "start_time": "2022-12-28T15:12:05.179470",
     "status": "completed"
    },
    "tags": []
   },
   "outputs": [
    {
     "data": {
      "text/html": [
       "<div>\n",
       "<style scoped>\n",
       "    .dataframe tbody tr th:only-of-type {\n",
       "        vertical-align: middle;\n",
       "    }\n",
       "\n",
       "    .dataframe tbody tr th {\n",
       "        vertical-align: top;\n",
       "    }\n",
       "\n",
       "    .dataframe thead th {\n",
       "        text-align: right;\n",
       "    }\n",
       "</style>\n",
       "<table border=\"1\" class=\"dataframe\">\n",
       "  <thead>\n",
       "    <tr style=\"text-align: right;\">\n",
       "      <th></th>\n",
       "      <th>PassengerId</th>\n",
       "      <th>Survived</th>\n",
       "      <th>Pclass</th>\n",
       "      <th>Name</th>\n",
       "      <th>Sex</th>\n",
       "      <th>Age</th>\n",
       "      <th>SibSp</th>\n",
       "      <th>Parch</th>\n",
       "      <th>Ticket</th>\n",
       "      <th>Fare</th>\n",
       "      <th>Cabin</th>\n",
       "      <th>Embarked</th>\n",
       "      <th>male</th>\n",
       "      <th>C</th>\n",
       "      <th>Q</th>\n",
       "      <th>S</th>\n",
       "    </tr>\n",
       "  </thead>\n",
       "  <tbody>\n",
       "    <tr>\n",
       "      <th>0</th>\n",
       "      <td>1</td>\n",
       "      <td>0</td>\n",
       "      <td>3</td>\n",
       "      <td>Braund, Mr. Owen Harris</td>\n",
       "      <td>male</td>\n",
       "      <td>22.000000</td>\n",
       "      <td>1</td>\n",
       "      <td>0</td>\n",
       "      <td>A/5 21171</td>\n",
       "      <td>7.2500</td>\n",
       "      <td>204</td>\n",
       "      <td>S</td>\n",
       "      <td>1</td>\n",
       "      <td>0</td>\n",
       "      <td>0</td>\n",
       "      <td>1</td>\n",
       "    </tr>\n",
       "    <tr>\n",
       "      <th>1</th>\n",
       "      <td>2</td>\n",
       "      <td>1</td>\n",
       "      <td>1</td>\n",
       "      <td>Cumings, Mrs. John Bradley (Florence Briggs Th...</td>\n",
       "      <td>female</td>\n",
       "      <td>38.000000</td>\n",
       "      <td>1</td>\n",
       "      <td>0</td>\n",
       "      <td>PC 17599</td>\n",
       "      <td>71.2833</td>\n",
       "      <td>C85</td>\n",
       "      <td>C</td>\n",
       "      <td>0</td>\n",
       "      <td>1</td>\n",
       "      <td>0</td>\n",
       "      <td>0</td>\n",
       "    </tr>\n",
       "    <tr>\n",
       "      <th>2</th>\n",
       "      <td>3</td>\n",
       "      <td>1</td>\n",
       "      <td>3</td>\n",
       "      <td>Heikkinen, Miss. Laina</td>\n",
       "      <td>female</td>\n",
       "      <td>26.000000</td>\n",
       "      <td>0</td>\n",
       "      <td>0</td>\n",
       "      <td>STON/O2. 3101282</td>\n",
       "      <td>7.9250</td>\n",
       "      <td>204</td>\n",
       "      <td>S</td>\n",
       "      <td>0</td>\n",
       "      <td>0</td>\n",
       "      <td>0</td>\n",
       "      <td>1</td>\n",
       "    </tr>\n",
       "    <tr>\n",
       "      <th>3</th>\n",
       "      <td>4</td>\n",
       "      <td>1</td>\n",
       "      <td>1</td>\n",
       "      <td>Futrelle, Mrs. Jacques Heath (Lily May Peel)</td>\n",
       "      <td>female</td>\n",
       "      <td>35.000000</td>\n",
       "      <td>1</td>\n",
       "      <td>0</td>\n",
       "      <td>113803</td>\n",
       "      <td>53.1000</td>\n",
       "      <td>C123</td>\n",
       "      <td>S</td>\n",
       "      <td>0</td>\n",
       "      <td>0</td>\n",
       "      <td>0</td>\n",
       "      <td>1</td>\n",
       "    </tr>\n",
       "    <tr>\n",
       "      <th>4</th>\n",
       "      <td>5</td>\n",
       "      <td>0</td>\n",
       "      <td>3</td>\n",
       "      <td>Allen, Mr. William Henry</td>\n",
       "      <td>male</td>\n",
       "      <td>35.000000</td>\n",
       "      <td>0</td>\n",
       "      <td>0</td>\n",
       "      <td>373450</td>\n",
       "      <td>8.0500</td>\n",
       "      <td>204</td>\n",
       "      <td>S</td>\n",
       "      <td>1</td>\n",
       "      <td>0</td>\n",
       "      <td>0</td>\n",
       "      <td>1</td>\n",
       "    </tr>\n",
       "    <tr>\n",
       "      <th>...</th>\n",
       "      <td>...</td>\n",
       "      <td>...</td>\n",
       "      <td>...</td>\n",
       "      <td>...</td>\n",
       "      <td>...</td>\n",
       "      <td>...</td>\n",
       "      <td>...</td>\n",
       "      <td>...</td>\n",
       "      <td>...</td>\n",
       "      <td>...</td>\n",
       "      <td>...</td>\n",
       "      <td>...</td>\n",
       "      <td>...</td>\n",
       "      <td>...</td>\n",
       "      <td>...</td>\n",
       "      <td>...</td>\n",
       "    </tr>\n",
       "    <tr>\n",
       "      <th>886</th>\n",
       "      <td>887</td>\n",
       "      <td>0</td>\n",
       "      <td>2</td>\n",
       "      <td>Montvila, Rev. Juozas</td>\n",
       "      <td>male</td>\n",
       "      <td>27.000000</td>\n",
       "      <td>0</td>\n",
       "      <td>0</td>\n",
       "      <td>211536</td>\n",
       "      <td>13.0000</td>\n",
       "      <td>204</td>\n",
       "      <td>S</td>\n",
       "      <td>1</td>\n",
       "      <td>0</td>\n",
       "      <td>0</td>\n",
       "      <td>1</td>\n",
       "    </tr>\n",
       "    <tr>\n",
       "      <th>887</th>\n",
       "      <td>888</td>\n",
       "      <td>1</td>\n",
       "      <td>1</td>\n",
       "      <td>Graham, Miss. Margaret Edith</td>\n",
       "      <td>female</td>\n",
       "      <td>19.000000</td>\n",
       "      <td>0</td>\n",
       "      <td>0</td>\n",
       "      <td>112053</td>\n",
       "      <td>30.0000</td>\n",
       "      <td>B42</td>\n",
       "      <td>S</td>\n",
       "      <td>0</td>\n",
       "      <td>0</td>\n",
       "      <td>0</td>\n",
       "      <td>1</td>\n",
       "    </tr>\n",
       "    <tr>\n",
       "      <th>888</th>\n",
       "      <td>889</td>\n",
       "      <td>0</td>\n",
       "      <td>3</td>\n",
       "      <td>Johnston, Miss. Catherine Helen \"Carrie\"</td>\n",
       "      <td>female</td>\n",
       "      <td>29.699118</td>\n",
       "      <td>1</td>\n",
       "      <td>2</td>\n",
       "      <td>W./C. 6607</td>\n",
       "      <td>23.4500</td>\n",
       "      <td>204</td>\n",
       "      <td>S</td>\n",
       "      <td>0</td>\n",
       "      <td>0</td>\n",
       "      <td>0</td>\n",
       "      <td>1</td>\n",
       "    </tr>\n",
       "    <tr>\n",
       "      <th>889</th>\n",
       "      <td>890</td>\n",
       "      <td>1</td>\n",
       "      <td>1</td>\n",
       "      <td>Behr, Mr. Karl Howell</td>\n",
       "      <td>male</td>\n",
       "      <td>26.000000</td>\n",
       "      <td>0</td>\n",
       "      <td>0</td>\n",
       "      <td>111369</td>\n",
       "      <td>30.0000</td>\n",
       "      <td>C148</td>\n",
       "      <td>C</td>\n",
       "      <td>1</td>\n",
       "      <td>1</td>\n",
       "      <td>0</td>\n",
       "      <td>0</td>\n",
       "    </tr>\n",
       "    <tr>\n",
       "      <th>890</th>\n",
       "      <td>891</td>\n",
       "      <td>0</td>\n",
       "      <td>3</td>\n",
       "      <td>Dooley, Mr. Patrick</td>\n",
       "      <td>male</td>\n",
       "      <td>32.000000</td>\n",
       "      <td>0</td>\n",
       "      <td>0</td>\n",
       "      <td>370376</td>\n",
       "      <td>7.7500</td>\n",
       "      <td>204</td>\n",
       "      <td>Q</td>\n",
       "      <td>1</td>\n",
       "      <td>0</td>\n",
       "      <td>1</td>\n",
       "      <td>0</td>\n",
       "    </tr>\n",
       "  </tbody>\n",
       "</table>\n",
       "<p>891 rows × 16 columns</p>\n",
       "</div>"
      ],
      "text/plain": [
       "     PassengerId  Survived  Pclass  \\\n",
       "0              1         0       3   \n",
       "1              2         1       1   \n",
       "2              3         1       3   \n",
       "3              4         1       1   \n",
       "4              5         0       3   \n",
       "..           ...       ...     ...   \n",
       "886          887         0       2   \n",
       "887          888         1       1   \n",
       "888          889         0       3   \n",
       "889          890         1       1   \n",
       "890          891         0       3   \n",
       "\n",
       "                                                  Name     Sex        Age  \\\n",
       "0                              Braund, Mr. Owen Harris    male  22.000000   \n",
       "1    Cumings, Mrs. John Bradley (Florence Briggs Th...  female  38.000000   \n",
       "2                               Heikkinen, Miss. Laina  female  26.000000   \n",
       "3         Futrelle, Mrs. Jacques Heath (Lily May Peel)  female  35.000000   \n",
       "4                             Allen, Mr. William Henry    male  35.000000   \n",
       "..                                                 ...     ...        ...   \n",
       "886                              Montvila, Rev. Juozas    male  27.000000   \n",
       "887                       Graham, Miss. Margaret Edith  female  19.000000   \n",
       "888           Johnston, Miss. Catherine Helen \"Carrie\"  female  29.699118   \n",
       "889                              Behr, Mr. Karl Howell    male  26.000000   \n",
       "890                                Dooley, Mr. Patrick    male  32.000000   \n",
       "\n",
       "     SibSp  Parch            Ticket     Fare Cabin Embarked  male  C  Q  S  \n",
       "0        1      0         A/5 21171   7.2500   204        S     1  0  0  1  \n",
       "1        1      0          PC 17599  71.2833   C85        C     0  1  0  0  \n",
       "2        0      0  STON/O2. 3101282   7.9250   204        S     0  0  0  1  \n",
       "3        1      0            113803  53.1000  C123        S     0  0  0  1  \n",
       "4        0      0            373450   8.0500   204        S     1  0  0  1  \n",
       "..     ...    ...               ...      ...   ...      ...   ... .. .. ..  \n",
       "886      0      0            211536  13.0000   204        S     1  0  0  1  \n",
       "887      0      0            112053  30.0000   B42        S     0  0  0  1  \n",
       "888      1      2        W./C. 6607  23.4500   204        S     0  0  0  1  \n",
       "889      0      0            111369  30.0000  C148        C     1  1  0  0  \n",
       "890      0      0            370376   7.7500   204        Q     1  0  1  0  \n",
       "\n",
       "[891 rows x 16 columns]"
      ]
     },
     "execution_count": 21,
     "metadata": {},
     "output_type": "execute_result"
    }
   ],
   "source": [
    "titanic"
   ]
  },
  {
   "cell_type": "code",
   "execution_count": 22,
   "id": "683be54a",
   "metadata": {
    "execution": {
     "iopub.execute_input": "2022-12-28T15:12:05.267707Z",
     "iopub.status.busy": "2022-12-28T15:12:05.267261Z",
     "iopub.status.idle": "2022-12-28T15:12:05.274263Z",
     "shell.execute_reply": "2022-12-28T15:12:05.273490Z"
    },
    "papermill": {
     "duration": 0.030072,
     "end_time": "2022-12-28T15:12:05.276421",
     "exception": false,
     "start_time": "2022-12-28T15:12:05.246349",
     "status": "completed"
    },
    "tags": []
   },
   "outputs": [],
   "source": [
    "#drop unwanted data\n",
    "titanic.drop(['PassengerId','Sex','Embarked','Name','Ticket','Cabin'],axis=1,inplace=True)\n"
   ]
  },
  {
   "cell_type": "code",
   "execution_count": 23,
   "id": "20784618",
   "metadata": {
    "execution": {
     "iopub.execute_input": "2022-12-28T15:12:05.318945Z",
     "iopub.status.busy": "2022-12-28T15:12:05.318509Z",
     "iopub.status.idle": "2022-12-28T15:12:05.339139Z",
     "shell.execute_reply": "2022-12-28T15:12:05.338028Z"
    },
    "papermill": {
     "duration": 0.044608,
     "end_time": "2022-12-28T15:12:05.341472",
     "exception": false,
     "start_time": "2022-12-28T15:12:05.296864",
     "status": "completed"
    },
    "tags": []
   },
   "outputs": [
    {
     "data": {
      "text/html": [
       "<div>\n",
       "<style scoped>\n",
       "    .dataframe tbody tr th:only-of-type {\n",
       "        vertical-align: middle;\n",
       "    }\n",
       "\n",
       "    .dataframe tbody tr th {\n",
       "        vertical-align: top;\n",
       "    }\n",
       "\n",
       "    .dataframe thead th {\n",
       "        text-align: right;\n",
       "    }\n",
       "</style>\n",
       "<table border=\"1\" class=\"dataframe\">\n",
       "  <thead>\n",
       "    <tr style=\"text-align: right;\">\n",
       "      <th></th>\n",
       "      <th>Survived</th>\n",
       "      <th>Pclass</th>\n",
       "      <th>Age</th>\n",
       "      <th>SibSp</th>\n",
       "      <th>Parch</th>\n",
       "      <th>Fare</th>\n",
       "      <th>male</th>\n",
       "      <th>C</th>\n",
       "      <th>Q</th>\n",
       "      <th>S</th>\n",
       "    </tr>\n",
       "  </thead>\n",
       "  <tbody>\n",
       "    <tr>\n",
       "      <th>0</th>\n",
       "      <td>0</td>\n",
       "      <td>3</td>\n",
       "      <td>22.000000</td>\n",
       "      <td>1</td>\n",
       "      <td>0</td>\n",
       "      <td>7.2500</td>\n",
       "      <td>1</td>\n",
       "      <td>0</td>\n",
       "      <td>0</td>\n",
       "      <td>1</td>\n",
       "    </tr>\n",
       "    <tr>\n",
       "      <th>1</th>\n",
       "      <td>1</td>\n",
       "      <td>1</td>\n",
       "      <td>38.000000</td>\n",
       "      <td>1</td>\n",
       "      <td>0</td>\n",
       "      <td>71.2833</td>\n",
       "      <td>0</td>\n",
       "      <td>1</td>\n",
       "      <td>0</td>\n",
       "      <td>0</td>\n",
       "    </tr>\n",
       "    <tr>\n",
       "      <th>2</th>\n",
       "      <td>1</td>\n",
       "      <td>3</td>\n",
       "      <td>26.000000</td>\n",
       "      <td>0</td>\n",
       "      <td>0</td>\n",
       "      <td>7.9250</td>\n",
       "      <td>0</td>\n",
       "      <td>0</td>\n",
       "      <td>0</td>\n",
       "      <td>1</td>\n",
       "    </tr>\n",
       "    <tr>\n",
       "      <th>3</th>\n",
       "      <td>1</td>\n",
       "      <td>1</td>\n",
       "      <td>35.000000</td>\n",
       "      <td>1</td>\n",
       "      <td>0</td>\n",
       "      <td>53.1000</td>\n",
       "      <td>0</td>\n",
       "      <td>0</td>\n",
       "      <td>0</td>\n",
       "      <td>1</td>\n",
       "    </tr>\n",
       "    <tr>\n",
       "      <th>4</th>\n",
       "      <td>0</td>\n",
       "      <td>3</td>\n",
       "      <td>35.000000</td>\n",
       "      <td>0</td>\n",
       "      <td>0</td>\n",
       "      <td>8.0500</td>\n",
       "      <td>1</td>\n",
       "      <td>0</td>\n",
       "      <td>0</td>\n",
       "      <td>1</td>\n",
       "    </tr>\n",
       "    <tr>\n",
       "      <th>...</th>\n",
       "      <td>...</td>\n",
       "      <td>...</td>\n",
       "      <td>...</td>\n",
       "      <td>...</td>\n",
       "      <td>...</td>\n",
       "      <td>...</td>\n",
       "      <td>...</td>\n",
       "      <td>...</td>\n",
       "      <td>...</td>\n",
       "      <td>...</td>\n",
       "    </tr>\n",
       "    <tr>\n",
       "      <th>886</th>\n",
       "      <td>0</td>\n",
       "      <td>2</td>\n",
       "      <td>27.000000</td>\n",
       "      <td>0</td>\n",
       "      <td>0</td>\n",
       "      <td>13.0000</td>\n",
       "      <td>1</td>\n",
       "      <td>0</td>\n",
       "      <td>0</td>\n",
       "      <td>1</td>\n",
       "    </tr>\n",
       "    <tr>\n",
       "      <th>887</th>\n",
       "      <td>1</td>\n",
       "      <td>1</td>\n",
       "      <td>19.000000</td>\n",
       "      <td>0</td>\n",
       "      <td>0</td>\n",
       "      <td>30.0000</td>\n",
       "      <td>0</td>\n",
       "      <td>0</td>\n",
       "      <td>0</td>\n",
       "      <td>1</td>\n",
       "    </tr>\n",
       "    <tr>\n",
       "      <th>888</th>\n",
       "      <td>0</td>\n",
       "      <td>3</td>\n",
       "      <td>29.699118</td>\n",
       "      <td>1</td>\n",
       "      <td>2</td>\n",
       "      <td>23.4500</td>\n",
       "      <td>0</td>\n",
       "      <td>0</td>\n",
       "      <td>0</td>\n",
       "      <td>1</td>\n",
       "    </tr>\n",
       "    <tr>\n",
       "      <th>889</th>\n",
       "      <td>1</td>\n",
       "      <td>1</td>\n",
       "      <td>26.000000</td>\n",
       "      <td>0</td>\n",
       "      <td>0</td>\n",
       "      <td>30.0000</td>\n",
       "      <td>1</td>\n",
       "      <td>1</td>\n",
       "      <td>0</td>\n",
       "      <td>0</td>\n",
       "    </tr>\n",
       "    <tr>\n",
       "      <th>890</th>\n",
       "      <td>0</td>\n",
       "      <td>3</td>\n",
       "      <td>32.000000</td>\n",
       "      <td>0</td>\n",
       "      <td>0</td>\n",
       "      <td>7.7500</td>\n",
       "      <td>1</td>\n",
       "      <td>0</td>\n",
       "      <td>1</td>\n",
       "      <td>0</td>\n",
       "    </tr>\n",
       "  </tbody>\n",
       "</table>\n",
       "<p>891 rows × 10 columns</p>\n",
       "</div>"
      ],
      "text/plain": [
       "     Survived  Pclass        Age  SibSp  Parch     Fare  male  C  Q  S\n",
       "0           0       3  22.000000      1      0   7.2500     1  0  0  1\n",
       "1           1       1  38.000000      1      0  71.2833     0  1  0  0\n",
       "2           1       3  26.000000      0      0   7.9250     0  0  0  1\n",
       "3           1       1  35.000000      1      0  53.1000     0  0  0  1\n",
       "4           0       3  35.000000      0      0   8.0500     1  0  0  1\n",
       "..        ...     ...        ...    ...    ...      ...   ... .. .. ..\n",
       "886         0       2  27.000000      0      0  13.0000     1  0  0  1\n",
       "887         1       1  19.000000      0      0  30.0000     0  0  0  1\n",
       "888         0       3  29.699118      1      2  23.4500     0  0  0  1\n",
       "889         1       1  26.000000      0      0  30.0000     1  1  0  0\n",
       "890         0       3  32.000000      0      0   7.7500     1  0  1  0\n",
       "\n",
       "[891 rows x 10 columns]"
      ]
     },
     "execution_count": 23,
     "metadata": {},
     "output_type": "execute_result"
    }
   ],
   "source": [
    "#show data after preprocessing\n",
    "titanic"
   ]
  },
  {
   "cell_type": "code",
   "execution_count": 24,
   "id": "30ed75af",
   "metadata": {
    "execution": {
     "iopub.execute_input": "2022-12-28T15:12:05.383380Z",
     "iopub.status.busy": "2022-12-28T15:12:05.382172Z",
     "iopub.status.idle": "2022-12-28T15:12:05.388265Z",
     "shell.execute_reply": "2022-12-28T15:12:05.387500Z"
    },
    "papermill": {
     "duration": 0.029464,
     "end_time": "2022-12-28T15:12:05.390415",
     "exception": false,
     "start_time": "2022-12-28T15:12:05.360951",
     "status": "completed"
    },
    "tags": []
   },
   "outputs": [],
   "source": [
    "titanic.rename(columns={'male':'Gender'},inplace=True)"
   ]
  },
  {
   "cell_type": "code",
   "execution_count": 25,
   "id": "ce4b25ce",
   "metadata": {
    "execution": {
     "iopub.execute_input": "2022-12-28T15:12:05.432068Z",
     "iopub.status.busy": "2022-12-28T15:12:05.430986Z",
     "iopub.status.idle": "2022-12-28T15:12:05.449906Z",
     "shell.execute_reply": "2022-12-28T15:12:05.448643Z"
    },
    "papermill": {
     "duration": 0.042667,
     "end_time": "2022-12-28T15:12:05.452762",
     "exception": false,
     "start_time": "2022-12-28T15:12:05.410095",
     "status": "completed"
    },
    "tags": []
   },
   "outputs": [
    {
     "data": {
      "text/html": [
       "<div>\n",
       "<style scoped>\n",
       "    .dataframe tbody tr th:only-of-type {\n",
       "        vertical-align: middle;\n",
       "    }\n",
       "\n",
       "    .dataframe tbody tr th {\n",
       "        vertical-align: top;\n",
       "    }\n",
       "\n",
       "    .dataframe thead th {\n",
       "        text-align: right;\n",
       "    }\n",
       "</style>\n",
       "<table border=\"1\" class=\"dataframe\">\n",
       "  <thead>\n",
       "    <tr style=\"text-align: right;\">\n",
       "      <th></th>\n",
       "      <th>Survived</th>\n",
       "      <th>Pclass</th>\n",
       "      <th>Age</th>\n",
       "      <th>SibSp</th>\n",
       "      <th>Parch</th>\n",
       "      <th>Fare</th>\n",
       "      <th>Gender</th>\n",
       "      <th>C</th>\n",
       "      <th>Q</th>\n",
       "      <th>S</th>\n",
       "    </tr>\n",
       "  </thead>\n",
       "  <tbody>\n",
       "    <tr>\n",
       "      <th>0</th>\n",
       "      <td>0</td>\n",
       "      <td>3</td>\n",
       "      <td>22.000000</td>\n",
       "      <td>1</td>\n",
       "      <td>0</td>\n",
       "      <td>7.2500</td>\n",
       "      <td>1</td>\n",
       "      <td>0</td>\n",
       "      <td>0</td>\n",
       "      <td>1</td>\n",
       "    </tr>\n",
       "    <tr>\n",
       "      <th>1</th>\n",
       "      <td>1</td>\n",
       "      <td>1</td>\n",
       "      <td>38.000000</td>\n",
       "      <td>1</td>\n",
       "      <td>0</td>\n",
       "      <td>71.2833</td>\n",
       "      <td>0</td>\n",
       "      <td>1</td>\n",
       "      <td>0</td>\n",
       "      <td>0</td>\n",
       "    </tr>\n",
       "    <tr>\n",
       "      <th>2</th>\n",
       "      <td>1</td>\n",
       "      <td>3</td>\n",
       "      <td>26.000000</td>\n",
       "      <td>0</td>\n",
       "      <td>0</td>\n",
       "      <td>7.9250</td>\n",
       "      <td>0</td>\n",
       "      <td>0</td>\n",
       "      <td>0</td>\n",
       "      <td>1</td>\n",
       "    </tr>\n",
       "    <tr>\n",
       "      <th>3</th>\n",
       "      <td>1</td>\n",
       "      <td>1</td>\n",
       "      <td>35.000000</td>\n",
       "      <td>1</td>\n",
       "      <td>0</td>\n",
       "      <td>53.1000</td>\n",
       "      <td>0</td>\n",
       "      <td>0</td>\n",
       "      <td>0</td>\n",
       "      <td>1</td>\n",
       "    </tr>\n",
       "    <tr>\n",
       "      <th>4</th>\n",
       "      <td>0</td>\n",
       "      <td>3</td>\n",
       "      <td>35.000000</td>\n",
       "      <td>0</td>\n",
       "      <td>0</td>\n",
       "      <td>8.0500</td>\n",
       "      <td>1</td>\n",
       "      <td>0</td>\n",
       "      <td>0</td>\n",
       "      <td>1</td>\n",
       "    </tr>\n",
       "    <tr>\n",
       "      <th>...</th>\n",
       "      <td>...</td>\n",
       "      <td>...</td>\n",
       "      <td>...</td>\n",
       "      <td>...</td>\n",
       "      <td>...</td>\n",
       "      <td>...</td>\n",
       "      <td>...</td>\n",
       "      <td>...</td>\n",
       "      <td>...</td>\n",
       "      <td>...</td>\n",
       "    </tr>\n",
       "    <tr>\n",
       "      <th>886</th>\n",
       "      <td>0</td>\n",
       "      <td>2</td>\n",
       "      <td>27.000000</td>\n",
       "      <td>0</td>\n",
       "      <td>0</td>\n",
       "      <td>13.0000</td>\n",
       "      <td>1</td>\n",
       "      <td>0</td>\n",
       "      <td>0</td>\n",
       "      <td>1</td>\n",
       "    </tr>\n",
       "    <tr>\n",
       "      <th>887</th>\n",
       "      <td>1</td>\n",
       "      <td>1</td>\n",
       "      <td>19.000000</td>\n",
       "      <td>0</td>\n",
       "      <td>0</td>\n",
       "      <td>30.0000</td>\n",
       "      <td>0</td>\n",
       "      <td>0</td>\n",
       "      <td>0</td>\n",
       "      <td>1</td>\n",
       "    </tr>\n",
       "    <tr>\n",
       "      <th>888</th>\n",
       "      <td>0</td>\n",
       "      <td>3</td>\n",
       "      <td>29.699118</td>\n",
       "      <td>1</td>\n",
       "      <td>2</td>\n",
       "      <td>23.4500</td>\n",
       "      <td>0</td>\n",
       "      <td>0</td>\n",
       "      <td>0</td>\n",
       "      <td>1</td>\n",
       "    </tr>\n",
       "    <tr>\n",
       "      <th>889</th>\n",
       "      <td>1</td>\n",
       "      <td>1</td>\n",
       "      <td>26.000000</td>\n",
       "      <td>0</td>\n",
       "      <td>0</td>\n",
       "      <td>30.0000</td>\n",
       "      <td>1</td>\n",
       "      <td>1</td>\n",
       "      <td>0</td>\n",
       "      <td>0</td>\n",
       "    </tr>\n",
       "    <tr>\n",
       "      <th>890</th>\n",
       "      <td>0</td>\n",
       "      <td>3</td>\n",
       "      <td>32.000000</td>\n",
       "      <td>0</td>\n",
       "      <td>0</td>\n",
       "      <td>7.7500</td>\n",
       "      <td>1</td>\n",
       "      <td>0</td>\n",
       "      <td>1</td>\n",
       "      <td>0</td>\n",
       "    </tr>\n",
       "  </tbody>\n",
       "</table>\n",
       "<p>891 rows × 10 columns</p>\n",
       "</div>"
      ],
      "text/plain": [
       "     Survived  Pclass        Age  SibSp  Parch     Fare  Gender  C  Q  S\n",
       "0           0       3  22.000000      1      0   7.2500       1  0  0  1\n",
       "1           1       1  38.000000      1      0  71.2833       0  1  0  0\n",
       "2           1       3  26.000000      0      0   7.9250       0  0  0  1\n",
       "3           1       1  35.000000      1      0  53.1000       0  0  0  1\n",
       "4           0       3  35.000000      0      0   8.0500       1  0  0  1\n",
       "..        ...     ...        ...    ...    ...      ...     ... .. .. ..\n",
       "886         0       2  27.000000      0      0  13.0000       1  0  0  1\n",
       "887         1       1  19.000000      0      0  30.0000       0  0  0  1\n",
       "888         0       3  29.699118      1      2  23.4500       0  0  0  1\n",
       "889         1       1  26.000000      0      0  30.0000       1  1  0  0\n",
       "890         0       3  32.000000      0      0   7.7500       1  0  1  0\n",
       "\n",
       "[891 rows x 10 columns]"
      ]
     },
     "execution_count": 25,
     "metadata": {},
     "output_type": "execute_result"
    }
   ],
   "source": [
    "#become numerical\n",
    "titanic"
   ]
  },
  {
   "cell_type": "code",
   "execution_count": 26,
   "id": "71285450",
   "metadata": {
    "execution": {
     "iopub.execute_input": "2022-12-28T15:12:05.494507Z",
     "iopub.status.busy": "2022-12-28T15:12:05.494050Z",
     "iopub.status.idle": "2022-12-28T15:12:05.951859Z",
     "shell.execute_reply": "2022-12-28T15:12:05.950698Z"
    },
    "papermill": {
     "duration": 0.481678,
     "end_time": "2022-12-28T15:12:05.954579",
     "exception": false,
     "start_time": "2022-12-28T15:12:05.472901",
     "status": "completed"
    },
    "tags": []
   },
   "outputs": [
    {
     "data": {
      "text/plain": [
       "<Axes: >"
      ]
     },
     "execution_count": 26,
     "metadata": {},
     "output_type": "execute_result"
    },
    {
     "data": {
      "image/png": "[encoded data removed]",
      "text/plain": [
       "<Figure size 640x480 with 2 Axes>"
      ]
     },
     "metadata": {},
     "output_type": "display_data"
    }
   ],
   "source": [
    "sns.heatmap(titanic.isna())"
   ]
  },
  {
   "cell_type": "markdown",
   "id": "dfb0fa67",
   "metadata": {
    "papermill": {
     "duration": 0.021459,
     "end_time": "2022-12-28T15:12:05.998657",
     "exception": false,
     "start_time": "2022-12-28T15:12:05.977198",
     "status": "completed"
    },
    "tags": []
   },
   "source": [
    "**#Data Analysis(EDA)**"
   ]
  },
  {
   "cell_type": "markdown",
   "id": "df0d6f5e",
   "metadata": {
    "papermill": {
     "duration": 0.021595,
     "end_time": "2022-12-28T15:12:06.042283",
     "exception": false,
     "start_time": "2022-12-28T15:12:06.020688",
     "status": "completed"
    },
    "tags": []
   },
   "source": [
    "> Exploratory Data Analysis"
   ]
  },
  {
   "cell_type": "code",
   "execution_count": 27,
   "id": "9471c381",
   "metadata": {
    "execution": {
     "iopub.execute_input": "2022-12-28T15:12:06.087787Z",
     "iopub.status.busy": "2022-12-28T15:12:06.086914Z",
     "iopub.status.idle": "2022-12-28T15:12:06.273979Z",
     "shell.execute_reply": "2022-12-28T15:12:06.272924Z"
    },
    "papermill": {
     "duration": 0.212631,
     "end_time": "2022-12-28T15:12:06.276593",
     "exception": false,
     "start_time": "2022-12-28T15:12:06.063962",
     "status": "completed"
    },
    "tags": []
   },
   "outputs": [
    {
     "data": {
      "text/plain": [
       "<Axes: xlabel='Survived', ylabel='count'>"
      ]
     },
     "execution_count": 27,
     "metadata": {},
     "output_type": "execute_result"
    },
    {
     "data": {
      "image/png": "[encoded data removed]",
      "text/plain": [
       "<Figure size 640x480 with 1 Axes>"
      ]
     },
     "metadata": {},
     "output_type": "display_data"
    }
   ],
   "source": [
    "sns.countplot(x='Survived',data=titanic,palette='pastel')"
   ]
  },
  {
   "cell_type": "code",
   "execution_count": 28,
   "id": "0e504303",
   "metadata": {
    "execution": {
     "iopub.execute_input": "2022-12-28T15:12:06.322334Z",
     "iopub.status.busy": "2022-12-28T15:12:06.321529Z",
     "iopub.status.idle": "2022-12-28T15:12:06.546651Z",
     "shell.execute_reply": "2022-12-28T15:12:06.545451Z"
    },
    "papermill": {
     "duration": 0.250361,
     "end_time": "2022-12-28T15:12:06.548954",
     "exception": false,
     "start_time": "2022-12-28T15:12:06.298593",
     "status": "completed"
    },
    "tags": []
   },
   "outputs": [
    {
     "data": {
      "text/plain": [
       "<Axes: xlabel='Survived', ylabel='count'>"
      ]
     },
     "execution_count": 28,
     "metadata": {},
     "output_type": "execute_result"
    },
    {
     "data": {
      "image/png": "[encoded data removed]",
      "text/plain": [
       "<Figure size 640x480 with 1 Axes>"
      ]
     },
     "metadata": {},
     "output_type": "display_data"
    }
   ],
   "source": [
    "sns.countplot(x='Survived',data=titanic,hue='Gender',palette='pastel')"
   ]
  },
  {
   "cell_type": "code",
   "execution_count": 29,
   "id": "06b9cbbd",
   "metadata": {
    "execution": {
     "iopub.execute_input": "2022-12-28T15:12:06.594020Z",
     "iopub.status.busy": "2022-12-28T15:12:06.593137Z",
     "iopub.status.idle": "2022-12-28T15:12:06.912635Z",
     "shell.execute_reply": "2022-12-28T15:12:06.911438Z"
    },
    "papermill": {
     "duration": 0.344866,
     "end_time": "2022-12-28T15:12:06.915219",
     "exception": false,
     "start_time": "2022-12-28T15:12:06.570353",
     "status": "completed"
    },
    "tags": []
   },
   "outputs": [
    {
     "data": {
      "text/plain": [
       "<Axes: >"
      ]
     },
     "execution_count": 29,
     "metadata": {},
     "output_type": "execute_result"
    },
    {
     "data": {
      "image/png": "[encoded data removed]",
      "text/plain": [
       "<Figure size 640x480 with 1 Axes>"
      ]
     },
     "metadata": {},
     "output_type": "display_data"
    }
   ],
   "source": [
    "titanic['Age'].hist(bins=30)"
   ]
  },
  {
   "cell_type": "code",
   "execution_count": 30,
   "id": "8fc845a0",
   "metadata": {
    "execution": {
     "iopub.execute_input": "2022-12-28T15:12:06.962220Z",
     "iopub.status.busy": "2022-12-28T15:12:06.961822Z",
     "iopub.status.idle": "2022-12-28T15:12:07.203075Z",
     "shell.execute_reply": "2022-12-28T15:12:07.201830Z"
    },
    "papermill": {
     "duration": 0.268685,
     "end_time": "2022-12-28T15:12:07.205845",
     "exception": false,
     "start_time": "2022-12-28T15:12:06.937160",
     "status": "completed"
    },
    "tags": []
   },
   "outputs": [
    {
     "data": {
      "text/plain": [
       "<Axes: >"
      ]
     },
     "execution_count": 30,
     "metadata": {},
     "output_type": "execute_result"
    },
    {
     "data": {
      "image/png": "[encoded data removed]",
      "text/plain": [
       "<Figure size 640x480 with 1 Axes>"
      ]
     },
     "metadata": {},
     "output_type": "display_data"
    }
   ],
   "source": [
    "titanic['Fare'].hist()\n",
    "#bins=30-->size of column"
   ]
  },
  {
   "cell_type": "markdown",
   "id": "70390bff",
   "metadata": {
    "papermill": {
     "duration": 0.023915,
     "end_time": "2022-12-28T15:12:07.254736",
     "exception": false,
     "start_time": "2022-12-28T15:12:07.230821",
     "status": "completed"
    },
    "tags": []
   },
   "source": [
    "**#Bulding Model**"
   ]
  },
  {
   "cell_type": "markdown",
   "id": "bf37ac4b",
   "metadata": {
    "papermill": {
     "duration": 0.022306,
     "end_time": "2022-12-28T15:12:07.299831",
     "exception": false,
     "start_time": "2022-12-28T15:12:07.277525",
     "status": "completed"
    },
    "tags": []
   },
   "source": [
    "> Train/Test Split Data "
   ]
  },
  {
   "cell_type": "code",
   "execution_count": 31,
   "id": "55ce3606",
   "metadata": {
    "execution": {
     "iopub.execute_input": "2022-12-28T15:12:07.346339Z",
     "iopub.status.busy": "2022-12-28T15:12:07.345894Z",
     "iopub.status.idle": "2022-12-28T15:12:07.364214Z",
     "shell.execute_reply": "2022-12-28T15:12:07.363272Z"
    },
    "papermill": {
     "duration": 0.04422,
     "end_time": "2022-12-28T15:12:07.366345",
     "exception": false,
     "start_time": "2022-12-28T15:12:07.322125",
     "status": "completed"
    },
    "tags": []
   },
   "outputs": [
    {
     "data": {
      "text/html": [
       "<div>\n",
       "<style scoped>\n",
       "    .dataframe tbody tr th:only-of-type {\n",
       "        vertical-align: middle;\n",
       "    }\n",
       "\n",
       "    .dataframe tbody tr th {\n",
       "        vertical-align: top;\n",
       "    }\n",
       "\n",
       "    .dataframe thead th {\n",
       "        text-align: right;\n",
       "    }\n",
       "</style>\n",
       "<table border=\"1\" class=\"dataframe\">\n",
       "  <thead>\n",
       "    <tr style=\"text-align: right;\">\n",
       "      <th></th>\n",
       "      <th>Survived</th>\n",
       "      <th>Pclass</th>\n",
       "      <th>Age</th>\n",
       "      <th>SibSp</th>\n",
       "      <th>Parch</th>\n",
       "      <th>Fare</th>\n",
       "      <th>Gender</th>\n",
       "      <th>C</th>\n",
       "      <th>Q</th>\n",
       "      <th>S</th>\n",
       "    </tr>\n",
       "  </thead>\n",
       "  <tbody>\n",
       "    <tr>\n",
       "      <th>0</th>\n",
       "      <td>0</td>\n",
       "      <td>3</td>\n",
       "      <td>22.000000</td>\n",
       "      <td>1</td>\n",
       "      <td>0</td>\n",
       "      <td>7.2500</td>\n",
       "      <td>1</td>\n",
       "      <td>0</td>\n",
       "      <td>0</td>\n",
       "      <td>1</td>\n",
       "    </tr>\n",
       "    <tr>\n",
       "      <th>1</th>\n",
       "      <td>1</td>\n",
       "      <td>1</td>\n",
       "      <td>38.000000</td>\n",
       "      <td>1</td>\n",
       "      <td>0</td>\n",
       "      <td>71.2833</td>\n",
       "      <td>0</td>\n",
       "      <td>1</td>\n",
       "      <td>0</td>\n",
       "      <td>0</td>\n",
       "    </tr>\n",
       "    <tr>\n",
       "      <th>2</th>\n",
       "      <td>1</td>\n",
       "      <td>3</td>\n",
       "      <td>26.000000</td>\n",
       "      <td>0</td>\n",
       "      <td>0</td>\n",
       "      <td>7.9250</td>\n",
       "      <td>0</td>\n",
       "      <td>0</td>\n",
       "      <td>0</td>\n",
       "      <td>1</td>\n",
       "    </tr>\n",
       "    <tr>\n",
       "      <th>3</th>\n",
       "      <td>1</td>\n",
       "      <td>1</td>\n",
       "      <td>35.000000</td>\n",
       "      <td>1</td>\n",
       "      <td>0</td>\n",
       "      <td>53.1000</td>\n",
       "      <td>0</td>\n",
       "      <td>0</td>\n",
       "      <td>0</td>\n",
       "      <td>1</td>\n",
       "    </tr>\n",
       "    <tr>\n",
       "      <th>4</th>\n",
       "      <td>0</td>\n",
       "      <td>3</td>\n",
       "      <td>35.000000</td>\n",
       "      <td>0</td>\n",
       "      <td>0</td>\n",
       "      <td>8.0500</td>\n",
       "      <td>1</td>\n",
       "      <td>0</td>\n",
       "      <td>0</td>\n",
       "      <td>1</td>\n",
       "    </tr>\n",
       "    <tr>\n",
       "      <th>...</th>\n",
       "      <td>...</td>\n",
       "      <td>...</td>\n",
       "      <td>...</td>\n",
       "      <td>...</td>\n",
       "      <td>...</td>\n",
       "      <td>...</td>\n",
       "      <td>...</td>\n",
       "      <td>...</td>\n",
       "      <td>...</td>\n",
       "      <td>...</td>\n",
       "    </tr>\n",
       "    <tr>\n",
       "      <th>886</th>\n",
       "      <td>0</td>\n",
       "      <td>2</td>\n",
       "      <td>27.000000</td>\n",
       "      <td>0</td>\n",
       "      <td>0</td>\n",
       "      <td>13.0000</td>\n",
       "      <td>1</td>\n",
       "      <td>0</td>\n",
       "      <td>0</td>\n",
       "      <td>1</td>\n",
       "    </tr>\n",
       "    <tr>\n",
       "      <th>887</th>\n",
       "      <td>1</td>\n",
       "      <td>1</td>\n",
       "      <td>19.000000</td>\n",
       "      <td>0</td>\n",
       "      <td>0</td>\n",
       "      <td>30.0000</td>\n",
       "      <td>0</td>\n",
       "      <td>0</td>\n",
       "      <td>0</td>\n",
       "      <td>1</td>\n",
       "    </tr>\n",
       "    <tr>\n",
       "      <th>888</th>\n",
       "      <td>0</td>\n",
       "      <td>3</td>\n",
       "      <td>29.699118</td>\n",
       "      <td>1</td>\n",
       "      <td>2</td>\n",
       "      <td>23.4500</td>\n",
       "      <td>0</td>\n",
       "      <td>0</td>\n",
       "      <td>0</td>\n",
       "      <td>1</td>\n",
       "    </tr>\n",
       "    <tr>\n",
       "      <th>889</th>\n",
       "      <td>1</td>\n",
       "      <td>1</td>\n",
       "      <td>26.000000</td>\n",
       "      <td>0</td>\n",
       "      <td>0</td>\n",
       "      <td>30.0000</td>\n",
       "      <td>1</td>\n",
       "      <td>1</td>\n",
       "      <td>0</td>\n",
       "      <td>0</td>\n",
       "    </tr>\n",
       "    <tr>\n",
       "      <th>890</th>\n",
       "      <td>0</td>\n",
       "      <td>3</td>\n",
       "      <td>32.000000</td>\n",
       "      <td>0</td>\n",
       "      <td>0</td>\n",
       "      <td>7.7500</td>\n",
       "      <td>1</td>\n",
       "      <td>0</td>\n",
       "      <td>1</td>\n",
       "      <td>0</td>\n",
       "    </tr>\n",
       "  </tbody>\n",
       "</table>\n",
       "<p>891 rows × 10 columns</p>\n",
       "</div>"
      ],
      "text/plain": [
       "     Survived  Pclass        Age  SibSp  Parch     Fare  Gender  C  Q  S\n",
       "0           0       3  22.000000      1      0   7.2500       1  0  0  1\n",
       "1           1       1  38.000000      1      0  71.2833       0  1  0  0\n",
       "2           1       3  26.000000      0      0   7.9250       0  0  0  1\n",
       "3           1       1  35.000000      1      0  53.1000       0  0  0  1\n",
       "4           0       3  35.000000      0      0   8.0500       1  0  0  1\n",
       "..        ...     ...        ...    ...    ...      ...     ... .. .. ..\n",
       "886         0       2  27.000000      0      0  13.0000       1  0  0  1\n",
       "887         1       1  19.000000      0      0  30.0000       0  0  0  1\n",
       "888         0       3  29.699118      1      2  23.4500       0  0  0  1\n",
       "889         1       1  26.000000      0      0  30.0000       1  1  0  0\n",
       "890         0       3  32.000000      0      0   7.7500       1  0  1  0\n",
       "\n",
       "[891 rows x 10 columns]"
      ]
     },
     "execution_count": 31,
     "metadata": {},
     "output_type": "execute_result"
    }
   ],
   "source": [
    " titanic"
   ]
  },
  {
   "cell_type": "code",
   "execution_count": 32,
   "id": "c6673d46",
   "metadata": {
    "execution": {
     "iopub.execute_input": "2022-12-28T15:12:07.412297Z",
     "iopub.status.busy": "2022-12-28T15:12:07.411607Z",
     "iopub.status.idle": "2022-12-28T15:12:07.417863Z",
     "shell.execute_reply": "2022-12-28T15:12:07.416776Z"
    },
    "papermill": {
     "duration": 0.032354,
     "end_time": "2022-12-28T15:12:07.420889",
     "exception": false,
     "start_time": "2022-12-28T15:12:07.388535",
     "status": "completed"
    },
    "tags": []
   },
   "outputs": [],
   "source": [
    "#80% training /20% testing/ divide it\n",
    "X=titanic.drop('Survived',axis=1)\n",
    "y=titanic['Survived']#position of project and prediction"
   ]
  },
  {
   "cell_type": "code",
   "execution_count": 33,
   "id": "02b27b06",
   "metadata": {
    "execution": {
     "iopub.execute_input": "2022-12-28T15:12:07.467221Z",
     "iopub.status.busy": "2022-12-28T15:12:07.466767Z",
     "iopub.status.idle": "2022-12-28T15:12:07.485773Z",
     "shell.execute_reply": "2022-12-28T15:12:07.484432Z"
    },
    "papermill": {
     "duration": 0.046014,
     "end_time": "2022-12-28T15:12:07.488582",
     "exception": false,
     "start_time": "2022-12-28T15:12:07.442568",
     "status": "completed"
    },
    "tags": []
   },
   "outputs": [
    {
     "data": {
      "text/html": [
       "<div>\n",
       "<style scoped>\n",
       "    .dataframe tbody tr th:only-of-type {\n",
       "        vertical-align: middle;\n",
       "    }\n",
       "\n",
       "    .dataframe tbody tr th {\n",
       "        vertical-align: top;\n",
       "    }\n",
       "\n",
       "    .dataframe thead th {\n",
       "        text-align: right;\n",
       "    }\n",
       "</style>\n",
       "<table border=\"1\" class=\"dataframe\">\n",
       "  <thead>\n",
       "    <tr style=\"text-align: right;\">\n",
       "      <th></th>\n",
       "      <th>Pclass</th>\n",
       "      <th>Age</th>\n",
       "      <th>SibSp</th>\n",
       "      <th>Parch</th>\n",
       "      <th>Fare</th>\n",
       "      <th>Gender</th>\n",
       "      <th>C</th>\n",
       "      <th>Q</th>\n",
       "      <th>S</th>\n",
       "    </tr>\n",
       "  </thead>\n",
       "  <tbody>\n",
       "    <tr>\n",
       "      <th>0</th>\n",
       "      <td>3</td>\n",
       "      <td>22.000000</td>\n",
       "      <td>1</td>\n",
       "      <td>0</td>\n",
       "      <td>7.2500</td>\n",
       "      <td>1</td>\n",
       "      <td>0</td>\n",
       "      <td>0</td>\n",
       "      <td>1</td>\n",
       "    </tr>\n",
       "    <tr>\n",
       "      <th>1</th>\n",
       "      <td>1</td>\n",
       "      <td>38.000000</td>\n",
       "      <td>1</td>\n",
       "      <td>0</td>\n",
       "      <td>71.2833</td>\n",
       "      <td>0</td>\n",
       "      <td>1</td>\n",
       "      <td>0</td>\n",
       "      <td>0</td>\n",
       "    </tr>\n",
       "    <tr>\n",
       "      <th>2</th>\n",
       "      <td>3</td>\n",
       "      <td>26.000000</td>\n",
       "      <td>0</td>\n",
       "      <td>0</td>\n",
       "      <td>7.9250</td>\n",
       "      <td>0</td>\n",
       "      <td>0</td>\n",
       "      <td>0</td>\n",
       "      <td>1</td>\n",
       "    </tr>\n",
       "    <tr>\n",
       "      <th>3</th>\n",
       "      <td>1</td>\n",
       "      <td>35.000000</td>\n",
       "      <td>1</td>\n",
       "      <td>0</td>\n",
       "      <td>53.1000</td>\n",
       "      <td>0</td>\n",
       "      <td>0</td>\n",
       "      <td>0</td>\n",
       "      <td>1</td>\n",
       "    </tr>\n",
       "    <tr>\n",
       "      <th>4</th>\n",
       "      <td>3</td>\n",
       "      <td>35.000000</td>\n",
       "      <td>0</td>\n",
       "      <td>0</td>\n",
       "      <td>8.0500</td>\n",
       "      <td>1</td>\n",
       "      <td>0</td>\n",
       "      <td>0</td>\n",
       "      <td>1</td>\n",
       "    </tr>\n",
       "    <tr>\n",
       "      <th>...</th>\n",
       "      <td>...</td>\n",
       "      <td>...</td>\n",
       "      <td>...</td>\n",
       "      <td>...</td>\n",
       "      <td>...</td>\n",
       "      <td>...</td>\n",
       "      <td>...</td>\n",
       "      <td>...</td>\n",
       "      <td>...</td>\n",
       "    </tr>\n",
       "    <tr>\n",
       "      <th>886</th>\n",
       "      <td>2</td>\n",
       "      <td>27.000000</td>\n",
       "      <td>0</td>\n",
       "      <td>0</td>\n",
       "      <td>13.0000</td>\n",
       "      <td>1</td>\n",
       "      <td>0</td>\n",
       "      <td>0</td>\n",
       "      <td>1</td>\n",
       "    </tr>\n",
       "    <tr>\n",
       "      <th>887</th>\n",
       "      <td>1</td>\n",
       "      <td>19.000000</td>\n",
       "      <td>0</td>\n",
       "      <td>0</td>\n",
       "      <td>30.0000</td>\n",
       "      <td>0</td>\n",
       "      <td>0</td>\n",
       "      <td>0</td>\n",
       "      <td>1</td>\n",
       "    </tr>\n",
       "    <tr>\n",
       "      <th>888</th>\n",
       "      <td>3</td>\n",
       "      <td>29.699118</td>\n",
       "      <td>1</td>\n",
       "      <td>2</td>\n",
       "      <td>23.4500</td>\n",
       "      <td>0</td>\n",
       "      <td>0</td>\n",
       "      <td>0</td>\n",
       "      <td>1</td>\n",
       "    </tr>\n",
       "    <tr>\n",
       "      <th>889</th>\n",
       "      <td>1</td>\n",
       "      <td>26.000000</td>\n",
       "      <td>0</td>\n",
       "      <td>0</td>\n",
       "      <td>30.0000</td>\n",
       "      <td>1</td>\n",
       "      <td>1</td>\n",
       "      <td>0</td>\n",
       "      <td>0</td>\n",
       "    </tr>\n",
       "    <tr>\n",
       "      <th>890</th>\n",
       "      <td>3</td>\n",
       "      <td>32.000000</td>\n",
       "      <td>0</td>\n",
       "      <td>0</td>\n",
       "      <td>7.7500</td>\n",
       "      <td>1</td>\n",
       "      <td>0</td>\n",
       "      <td>1</td>\n",
       "      <td>0</td>\n",
       "    </tr>\n",
       "  </tbody>\n",
       "</table>\n",
       "<p>891 rows × 9 columns</p>\n",
       "</div>"
      ],
      "text/plain": [
       "     Pclass        Age  SibSp  Parch     Fare  Gender  C  Q  S\n",
       "0         3  22.000000      1      0   7.2500       1  0  0  1\n",
       "1         1  38.000000      1      0  71.2833       0  1  0  0\n",
       "2         3  26.000000      0      0   7.9250       0  0  0  1\n",
       "3         1  35.000000      1      0  53.1000       0  0  0  1\n",
       "4         3  35.000000      0      0   8.0500       1  0  0  1\n",
       "..      ...        ...    ...    ...      ...     ... .. .. ..\n",
       "886       2  27.000000      0      0  13.0000       1  0  0  1\n",
       "887       1  19.000000      0      0  30.0000       0  0  0  1\n",
       "888       3  29.699118      1      2  23.4500       0  0  0  1\n",
       "889       1  26.000000      0      0  30.0000       1  1  0  0\n",
       "890       3  32.000000      0      0   7.7500       1  0  1  0\n",
       "\n",
       "[891 rows x 9 columns]"
      ]
     },
     "execution_count": 33,
     "metadata": {},
     "output_type": "execute_result"
    }
   ],
   "source": [
    "X"
   ]
  },
  {
   "cell_type": "code",
   "execution_count": 34,
   "id": "c5902ea0",
   "metadata": {
    "execution": {
     "iopub.execute_input": "2022-12-28T15:12:07.538675Z",
     "iopub.status.busy": "2022-12-28T15:12:07.538239Z",
     "iopub.status.idle": "2022-12-28T15:12:07.546788Z",
     "shell.execute_reply": "2022-12-28T15:12:07.545577Z"
    },
    "papermill": {
     "duration": 0.03591,
     "end_time": "2022-12-28T15:12:07.549100",
     "exception": false,
     "start_time": "2022-12-28T15:12:07.513190",
     "status": "completed"
    },
    "tags": []
   },
   "outputs": [
    {
     "data": {
      "text/plain": [
       "0      0\n",
       "1      1\n",
       "2      1\n",
       "3      1\n",
       "4      0\n",
       "      ..\n",
       "886    0\n",
       "887    1\n",
       "888    0\n",
       "889    1\n",
       "890    0\n",
       "Name: Survived, Length: 891, dtype: int64"
      ]
     },
     "execution_count": 34,
     "metadata": {},
     "output_type": "execute_result"
    }
   ],
   "source": [
    "y"
   ]
  },
  {
   "cell_type": "code",
   "execution_count": 35,
   "id": "33bd7709",
   "metadata": {
    "execution": {
     "iopub.execute_input": "2022-12-28T15:12:07.601632Z",
     "iopub.status.busy": "2022-12-28T15:12:07.601236Z",
     "iopub.status.idle": "2022-12-28T15:12:07.791523Z",
     "shell.execute_reply": "2022-12-28T15:12:07.790269Z"
    },
    "papermill": {
     "duration": 0.219584,
     "end_time": "2022-12-28T15:12:07.794306",
     "exception": false,
     "start_time": "2022-12-28T15:12:07.574722",
     "status": "completed"
    },
    "tags": []
   },
   "outputs": [],
   "source": [
    "#shift +tab\n",
    "#divide data \n",
    "from sklearn.model_selection import train_test_split"
   ]
  },
  {
   "cell_type": "code",
   "execution_count": 36,
   "id": "46a9240f",
   "metadata": {
    "execution": {
     "iopub.execute_input": "2022-12-28T15:12:07.841772Z",
     "iopub.status.busy": "2022-12-28T15:12:07.841314Z",
     "iopub.status.idle": "2022-12-28T15:12:07.849191Z",
     "shell.execute_reply": "2022-12-28T15:12:07.847845Z"
    },
    "papermill": {
     "duration": 0.033234,
     "end_time": "2022-12-28T15:12:07.851459",
     "exception": false,
     "start_time": "2022-12-28T15:12:07.818225",
     "status": "completed"
    },
    "tags": []
   },
   "outputs": [],
   "source": [
    "X_train, X_test, y_train, y_test = train_test_split(\n",
    "    X, y, test_size=0.2, random_state=42)\n",
    "#shuffeling data\n",
    "#80VS20"
   ]
  },
  {
   "cell_type": "code",
   "execution_count": 37,
   "id": "f7f5f46b",
   "metadata": {
    "execution": {
     "iopub.execute_input": "2022-12-28T15:12:07.897883Z",
     "iopub.status.busy": "2022-12-28T15:12:07.897095Z",
     "iopub.status.idle": "2022-12-28T15:12:07.904009Z",
     "shell.execute_reply": "2022-12-28T15:12:07.902955Z"
    },
    "papermill": {
     "duration": 0.032415,
     "end_time": "2022-12-28T15:12:07.906280",
     "exception": false,
     "start_time": "2022-12-28T15:12:07.873865",
     "status": "completed"
    },
    "tags": []
   },
   "outputs": [
    {
     "data": {
      "text/plain": [
       "(712, 9)"
      ]
     },
     "execution_count": 37,
     "metadata": {},
     "output_type": "execute_result"
    }
   ],
   "source": [
    "#80\n",
    "X_train.shape"
   ]
  },
  {
   "cell_type": "code",
   "execution_count": 38,
   "id": "fdb25f12",
   "metadata": {
    "execution": {
     "iopub.execute_input": "2022-12-28T15:12:07.955615Z",
     "iopub.status.busy": "2022-12-28T15:12:07.955162Z",
     "iopub.status.idle": "2022-12-28T15:12:07.962072Z",
     "shell.execute_reply": "2022-12-28T15:12:07.960908Z"
    },
    "papermill": {
     "duration": 0.033724,
     "end_time": "2022-12-28T15:12:07.964430",
     "exception": false,
     "start_time": "2022-12-28T15:12:07.930706",
     "status": "completed"
    },
    "tags": []
   },
   "outputs": [
    {
     "data": {
      "text/plain": [
       "(179, 9)"
      ]
     },
     "execution_count": 38,
     "metadata": {},
     "output_type": "execute_result"
    }
   ],
   "source": [
    "#20\n",
    "X_test.shape"
   ]
  },
  {
   "cell_type": "code",
   "execution_count": 39,
   "id": "9aee842f",
   "metadata": {
    "execution": {
     "iopub.execute_input": "2022-12-28T15:12:08.013445Z",
     "iopub.status.busy": "2022-12-28T15:12:08.012278Z",
     "iopub.status.idle": "2022-12-28T15:12:08.019229Z",
     "shell.execute_reply": "2022-12-28T15:12:08.018310Z"
    },
    "papermill": {
     "duration": 0.03415,
     "end_time": "2022-12-28T15:12:08.021765",
     "exception": false,
     "start_time": "2022-12-28T15:12:07.987615",
     "status": "completed"
    },
    "tags": []
   },
   "outputs": [
    {
     "data": {
      "text/plain": [
       "(712,)"
      ]
     },
     "execution_count": 39,
     "metadata": {},
     "output_type": "execute_result"
    }
   ],
   "source": [
    "#only one colume\n",
    "y_train.shape"
   ]
  },
  {
   "cell_type": "code",
   "execution_count": 40,
   "id": "bdc2b2d2",
   "metadata": {
    "execution": {
     "iopub.execute_input": "2022-12-28T15:12:08.069755Z",
     "iopub.status.busy": "2022-12-28T15:12:08.068958Z",
     "iopub.status.idle": "2022-12-28T15:12:08.076047Z",
     "shell.execute_reply": "2022-12-28T15:12:08.074931Z"
    },
    "papermill": {
     "duration": 0.033277,
     "end_time": "2022-12-28T15:12:08.078105",
     "exception": false,
     "start_time": "2022-12-28T15:12:08.044828",
     "status": "completed"
    },
    "tags": []
   },
   "outputs": [
    {
     "data": {
      "text/plain": [
       "(179,)"
      ]
     },
     "execution_count": 40,
     "metadata": {},
     "output_type": "execute_result"
    }
   ],
   "source": [
    "y_test.shape"
   ]
  },
  {
   "cell_type": "markdown",
   "id": "df442c20",
   "metadata": {
    "papermill": {
     "duration": 0.02325,
     "end_time": "2022-12-28T15:12:08.125162",
     "exception": false,
     "start_time": "2022-12-28T15:12:08.101912",
     "status": "completed"
    },
    "tags": []
   },
   "source": [
    "**#Model Training and Prediction**"
   ]
  },
  {
   "cell_type": "code",
   "execution_count": 41,
   "id": "f4b2dd34",
   "metadata": {
    "execution": {
     "iopub.execute_input": "2022-12-28T15:12:08.174629Z",
     "iopub.status.busy": "2022-12-28T15:12:08.173608Z",
     "iopub.status.idle": "2022-12-28T15:12:08.257010Z",
     "shell.execute_reply": "2022-12-28T15:12:08.255820Z"
    },
    "papermill": {
     "duration": 0.111249,
     "end_time": "2022-12-28T15:12:08.259842",
     "exception": false,
     "start_time": "2022-12-28T15:12:08.148593",
     "status": "completed"
    },
    "tags": []
   },
   "outputs": [],
   "source": [
    "#prediction of classification&&discrete\n",
    "#logictic regression-->binary classification (t \\\\ f)\n",
    "#survived or not\n",
    "from sklearn.linear_model import LogisticRegression"
   ]
  },
  {
   "cell_type": "code",
   "execution_count": 42,
   "id": "3e11ac36",
   "metadata": {
    "execution": {
     "iopub.execute_input": "2022-12-28T15:12:08.308864Z",
     "iopub.status.busy": "2022-12-28T15:12:08.308434Z",
     "iopub.status.idle": "2022-12-28T15:12:08.314031Z",
     "shell.execute_reply": "2022-12-28T15:12:08.312896Z"
    },
    "papermill": {
     "duration": 0.032476,
     "end_time": "2022-12-28T15:12:08.316334",
     "exception": false,
     "start_time": "2022-12-28T15:12:08.283858",
     "status": "completed"
    },
    "tags": []
   },
   "outputs": [],
   "source": [
    "#support vector classifier\n",
    "from sklearn.svm import SVC"
   ]
  },
  {
   "cell_type": "code",
   "execution_count": 43,
   "id": "7a2dbb33",
   "metadata": {
    "execution": {
     "iopub.execute_input": "2022-12-28T15:12:08.366597Z",
     "iopub.status.busy": "2022-12-28T15:12:08.366155Z",
     "iopub.status.idle": "2022-12-28T15:12:08.371347Z",
     "shell.execute_reply": "2022-12-28T15:12:08.370325Z"
    },
    "papermill": {
     "duration": 0.033229,
     "end_time": "2022-12-28T15:12:08.373936",
     "exception": false,
     "start_time": "2022-12-28T15:12:08.340707",
     "status": "completed"
    },
    "tags": []
   },
   "outputs": [],
   "source": [
    "from sklearn.linear_model import Perceptron"
   ]
  },
  {
   "cell_type": "code",
   "execution_count": 44,
   "id": "3ba3459b",
   "metadata": {
    "execution": {
     "iopub.execute_input": "2022-12-28T15:12:08.424398Z",
     "iopub.status.busy": "2022-12-28T15:12:08.424004Z",
     "iopub.status.idle": "2022-12-28T15:12:08.429331Z",
     "shell.execute_reply": "2022-12-28T15:12:08.428145Z"
    },
    "papermill": {
     "duration": 0.033234,
     "end_time": "2022-12-28T15:12:08.431697",
     "exception": false,
     "start_time": "2022-12-28T15:12:08.398463",
     "status": "completed"
    },
    "tags": []
   },
   "outputs": [],
   "source": [
    "#build model\n",
    "#object for model\n",
    "model=LogisticRegression(max_iter=5000)#max itr#Model Building"
   ]
  },
  {
   "cell_type": "code",
   "execution_count": 45,
   "id": "ddd9d51e",
   "metadata": {
    "execution": {
     "iopub.execute_input": "2022-12-28T15:12:08.480039Z",
     "iopub.status.busy": "2022-12-28T15:12:08.479612Z",
     "iopub.status.idle": "2022-12-28T15:12:08.486969Z",
     "shell.execute_reply": "2022-12-28T15:12:08.485450Z"
    },
    "papermill": {
     "duration": 0.034974,
     "end_time": "2022-12-28T15:12:08.489886",
     "exception": false,
     "start_time": "2022-12-28T15:12:08.454912",
     "status": "completed"
    },
    "tags": []
   },
   "outputs": [],
   "source": [
    "model_2=SVC(max_iter=5000 )\n"
   ]
  },
  {
   "cell_type": "code",
   "execution_count": 46,
   "id": "30f0d039",
   "metadata": {
    "execution": {
     "iopub.execute_input": "2022-12-28T15:12:08.540717Z",
     "iopub.status.busy": "2022-12-28T15:12:08.540283Z",
     "iopub.status.idle": "2022-12-28T15:12:08.545844Z",
     "shell.execute_reply": "2022-12-28T15:12:08.544586Z"
    },
    "papermill": {
     "duration": 0.03324,
     "end_time": "2022-12-28T15:12:08.548107",
     "exception": false,
     "start_time": "2022-12-28T15:12:08.514867",
     "status": "completed"
    },
    "tags": []
   },
   "outputs": [],
   "source": [
    "classifier =Perceptron(max_iter=5000)"
   ]
  },
  {
   "cell_type": "code",
   "execution_count": 47,
   "id": "80ba2985",
   "metadata": {
    "execution": {
     "iopub.execute_input": "2022-12-28T15:12:08.597545Z",
     "iopub.status.busy": "2022-12-28T15:12:08.597123Z",
     "iopub.status.idle": "2022-12-28T15:12:08.715905Z",
     "shell.execute_reply": "2022-12-28T15:12:08.714680Z"
    },
    "papermill": {
     "duration": 0.146909,
     "end_time": "2022-12-28T15:12:08.718507",
     "exception": false,
     "start_time": "2022-12-28T15:12:08.571598",
     "status": "completed"
    },
    "tags": []
   },
   "outputs": [
    {
     "data": {
      "text/html": [
       "<style>#sk-container-id-1 {color: black;background-color: white;}#sk-container-id-1 pre{padding: 0;}#sk-container-id-1 div.sk-toggleable {background-color: white;}#sk-container-id-1 label.sk-toggleable__label {cursor: pointer;display: block;width: 100%;margin-bottom: 0;padding: 0.3em;box-sizing: border-box;text-align: center;}#sk-container-id-1 label.sk-toggleable__label-arrow:before {content: \"▸\";float: left;margin-right: 0.25em;color: #696969;}#sk-container-id-1 label.sk-toggleable__label-arrow:hover:before {color: black;}#sk-container-id-1 div.sk-estimator:hover label.sk-toggleable__label-arrow:before {color: black;}#sk-container-id-1 div.sk-toggleable__content {max-height: 0;max-width: 0;overflow: hidden;text-align: left;background-color: #f0f8ff;}#sk-container-id-1 div.sk-toggleable__content pre {margin: 0.2em;color: black;border-radius: 0.25em;background-color: #f0f8ff;}#sk-container-id-1 input.sk-toggleable__control:checked~div.sk-toggleable__content {max-height: 200px;max-width: 100%;overflow: auto;}#sk-container-id-1 input.sk-toggleable__control:checked~label.sk-toggleable__label-arrow:before {content: \"▾\";}#sk-container-id-1 div.sk-estimator input.sk-toggleable__control:checked~label.sk-toggleable__label {background-color: #d4ebff;}#sk-container-id-1 div.sk-label input.sk-toggleable__control:checked~label.sk-toggleable__label {background-color: #d4ebff;}#sk-container-id-1 input.sk-hidden--visually {border: 0;clip: rect(1px 1px 1px 1px);clip: rect(1px, 1px, 1px, 1px);height: 1px;margin: -1px;overflow: hidden;padding: 0;position: absolute;width: 1px;}#sk-container-id-1 div.sk-estimator {font-family: monospace;background-color: #f0f8ff;border: 1px dotted black;border-radius: 0.25em;box-sizing: border-box;margin-bottom: 0.5em;}#sk-container-id-1 div.sk-estimator:hover {background-color: #d4ebff;}#sk-container-id-1 div.sk-parallel-item::after {content: \"\";width: 100%;border-bottom: 1px solid gray;flex-grow: 1;}#sk-container-id-1 div.sk-label:hover label.sk-toggleable__label {background-color: #d4ebff;}#sk-container-id-1 div.sk-serial::before {content: \"\";position: absolute;border-left: 1px solid gray;box-sizing: border-box;top: 0;bottom: 0;left: 50%;z-index: 0;}#sk-container-id-1 div.sk-serial {display: flex;flex-direction: column;align-items: center;background-color: white;padding-right: 0.2em;padding-left: 0.2em;position: relative;}#sk-container-id-1 div.sk-item {position: relative;z-index: 1;}#sk-container-id-1 div.sk-parallel {display: flex;align-items: stretch;justify-content: center;background-color: white;position: relative;}#sk-container-id-1 div.sk-item::before, #sk-container-id-1 div.sk-parallel-item::before {content: \"\";position: absolute;border-left: 1px solid gray;box-sizing: border-box;top: 0;bottom: 0;left: 50%;z-index: -1;}#sk-container-id-1 div.sk-parallel-item {display: flex;flex-direction: column;z-index: 1;position: relative;background-color: white;}#sk-container-id-1 div.sk-parallel-item:first-child::after {align-self: flex-end;width: 50%;}#sk-container-id-1 div.sk-parallel-item:last-child::after {align-self: flex-start;width: 50%;}#sk-container-id-1 div.sk-parallel-item:only-child::after {width: 0;}#sk-container-id-1 div.sk-dashed-wrapped {border: 1px dashed gray;margin: 0 0.4em 0.5em 0.4em;box-sizing: border-box;padding-bottom: 0.4em;background-color: white;}#sk-container-id-1 div.sk-label label {font-family: monospace;font-weight: bold;display: inline-block;line-height: 1.2em;}#sk-container-id-1 div.sk-label-container {text-align: center;}#sk-container-id-1 div.sk-container {/* jupyter's `normalize.less` sets `[hidden] { display: none; }` but bootstrap.min.css set `[hidden] { display: none !important; }` so we also need the `!important` here to be able to override the default hidden behavior on the sphinx rendered scikit-learn.org. See: https://github.com/scikit-learn/scikit-learn/issues/21755 */display: inline-block !important;position: relative;}#sk-container-id-1 div.sk-text-repr-fallback {display: none;}</style><div id=\"sk-container-id-1\" class=\"sk-top-container\"><div class=\"sk-text-repr-fallback\"><pre>LogisticRegression(max_iter=5000)</pre><b>In a Jupyter environment, please rerun this cell to show the HTML representation or trust the notebook. <br />On GitHub, the HTML representation is unable to render, please try loading this page with nbviewer.org.</b></div><div class=\"sk-container\" hidden><div class=\"sk-item\"><div class=\"sk-estimator sk-toggleable\"><input class=\"sk-toggleable__control sk-hidden--visually\" id=\"sk-estimator-id-1\" type=\"checkbox\" checked><label for=\"sk-estimator-id-1\" class=\"sk-toggleable__label sk-toggleable__label-arrow\">LogisticRegression</label><div class=\"sk-toggleable__content\"><pre>LogisticRegression(max_iter=5000)</pre></div></div></div></div></div>"
      ],
      "text/plain": [
       "LogisticRegression(max_iter=5000)"
      ]
     },
     "execution_count": 47,
     "metadata": {},
     "output_type": "execute_result"
    }
   ],
   "source": [
    "#some mistake come here because i forget to drop cabine column and data isnt numerical\n",
    "#x_train&y_train\n",
    "\n",
    "model.fit(X_train,y_train)#Model Training\n"
   ]
  },
  {
   "cell_type": "code",
   "execution_count": 48,
   "id": "8e3b0fba",
   "metadata": {
    "execution": {
     "iopub.execute_input": "2022-12-28T15:12:08.765887Z",
     "iopub.status.busy": "2022-12-28T15:12:08.765482Z",
     "iopub.status.idle": "2022-12-28T15:12:08.800619Z",
     "shell.execute_reply": "2022-12-28T15:12:08.799440Z"
    },
    "papermill": {
     "duration": 0.06185,
     "end_time": "2022-12-28T15:12:08.803133",
     "exception": false,
     "start_time": "2022-12-28T15:12:08.741283",
     "status": "completed"
    },
    "tags": []
   },
   "outputs": [
    {
     "data": {
      "text/html": [
       "<style>#sk-container-id-2 {color: black;background-color: white;}#sk-container-id-2 pre{padding: 0;}#sk-container-id-2 div.sk-toggleable {background-color: white;}#sk-container-id-2 label.sk-toggleable__label {cursor: pointer;display: block;width: 100%;margin-bottom: 0;padding: 0.3em;box-sizing: border-box;text-align: center;}#sk-container-id-2 label.sk-toggleable__label-arrow:before {content: \"▸\";float: left;margin-right: 0.25em;color: #696969;}#sk-container-id-2 label.sk-toggleable__label-arrow:hover:before {color: black;}#sk-container-id-2 div.sk-estimator:hover label.sk-toggleable__label-arrow:before {color: black;}#sk-container-id-2 div.sk-toggleable__content {max-height: 0;max-width: 0;overflow: hidden;text-align: left;background-color: #f0f8ff;}#sk-container-id-2 div.sk-toggleable__content pre {margin: 0.2em;color: black;border-radius: 0.25em;background-color: #f0f8ff;}#sk-container-id-2 input.sk-toggleable__control:checked~div.sk-toggleable__content {max-height: 200px;max-width: 100%;overflow: auto;}#sk-container-id-2 input.sk-toggleable__control:checked~label.sk-toggleable__label-arrow:before {content: \"▾\";}#sk-container-id-2 div.sk-estimator input.sk-toggleable__control:checked~label.sk-toggleable__label {background-color: #d4ebff;}#sk-container-id-2 div.sk-label input.sk-toggleable__control:checked~label.sk-toggleable__label {background-color: #d4ebff;}#sk-container-id-2 input.sk-hidden--visually {border: 0;clip: rect(1px 1px 1px 1px);clip: rect(1px, 1px, 1px, 1px);height: 1px;margin: -1px;overflow: hidden;padding: 0;position: absolute;width: 1px;}#sk-container-id-2 div.sk-estimator {font-family: monospace;background-color: #f0f8ff;border: 1px dotted black;border-radius: 0.25em;box-sizing: border-box;margin-bottom: 0.5em;}#sk-container-id-2 div.sk-estimator:hover {background-color: #d4ebff;}#sk-container-id-2 div.sk-parallel-item::after {content: \"\";width: 100%;border-bottom: 1px solid gray;flex-grow: 1;}#sk-container-id-2 div.sk-label:hover label.sk-toggleable__label {background-color: #d4ebff;}#sk-container-id-2 div.sk-serial::before {content: \"\";position: absolute;border-left: 1px solid gray;box-sizing: border-box;top: 0;bottom: 0;left: 50%;z-index: 0;}#sk-container-id-2 div.sk-serial {display: flex;flex-direction: column;align-items: center;background-color: white;padding-right: 0.2em;padding-left: 0.2em;position: relative;}#sk-container-id-2 div.sk-item {position: relative;z-index: 1;}#sk-container-id-2 div.sk-parallel {display: flex;align-items: stretch;justify-content: center;background-color: white;position: relative;}#sk-container-id-2 div.sk-item::before, #sk-container-id-2 div.sk-parallel-item::before {content: \"\";position: absolute;border-left: 1px solid gray;box-sizing: border-box;top: 0;bottom: 0;left: 50%;z-index: -1;}#sk-container-id-2 div.sk-parallel-item {display: flex;flex-direction: column;z-index: 1;position: relative;background-color: white;}#sk-container-id-2 div.sk-parallel-item:first-child::after {align-self: flex-end;width: 50%;}#sk-container-id-2 div.sk-parallel-item:last-child::after {align-self: flex-start;width: 50%;}#sk-container-id-2 div.sk-parallel-item:only-child::after {width: 0;}#sk-container-id-2 div.sk-dashed-wrapped {border: 1px dashed gray;margin: 0 0.4em 0.5em 0.4em;box-sizing: border-box;padding-bottom: 0.4em;background-color: white;}#sk-container-id-2 div.sk-label label {font-family: monospace;font-weight: bold;display: inline-block;line-height: 1.2em;}#sk-container-id-2 div.sk-label-container {text-align: center;}#sk-container-id-2 div.sk-container {/* jupyter's `normalize.less` sets `[hidden] { display: none; }` but bootstrap.min.css set `[hidden] { display: none !important; }` so we also need the `!important` here to be able to override the default hidden behavior on the sphinx rendered scikit-learn.org. See: https://github.com/scikit-learn/scikit-learn/issues/21755 */display: inline-block !important;position: relative;}#sk-container-id-2 div.sk-text-repr-fallback {display: none;}</style><div id=\"sk-container-id-2\" class=\"sk-top-container\"><div class=\"sk-text-repr-fallback\"><pre>SVC(max_iter=5000)</pre><b>In a Jupyter environment, please rerun this cell to show the HTML representation or trust the notebook. <br />On GitHub, the HTML representation is unable to render, please try loading this page with nbviewer.org.</b></div><div class=\"sk-container\" hidden><div class=\"sk-item\"><div class=\"sk-estimator sk-toggleable\"><input class=\"sk-toggleable__control sk-hidden--visually\" id=\"sk-estimator-id-2\" type=\"checkbox\" checked><label for=\"sk-estimator-id-2\" class=\"sk-toggleable__label sk-toggleable__label-arrow\">SVC</label><div class=\"sk-toggleable__content\"><pre>SVC(max_iter=5000)</pre></div></div></div></div></div>"
      ],
      "text/plain": [
       "SVC(max_iter=5000)"
      ]
     },
     "execution_count": 48,
     "metadata": {},
     "output_type": "execute_result"
    }
   ],
   "source": [
    "model_2.fit(X_train,y_train)"
   ]
  },
  {
   "cell_type": "code",
   "execution_count": 49,
   "id": "771cd546",
   "metadata": {
    "execution": {
     "iopub.execute_input": "2022-12-28T15:12:08.850576Z",
     "iopub.status.busy": "2022-12-28T15:12:08.850160Z",
     "iopub.status.idle": "2022-12-28T15:12:08.861689Z",
     "shell.execute_reply": "2022-12-28T15:12:08.860562Z"
    },
    "papermill": {
     "duration": 0.037708,
     "end_time": "2022-12-28T15:12:08.863926",
     "exception": false,
     "start_time": "2022-12-28T15:12:08.826218",
     "status": "completed"
    },
    "tags": []
   },
   "outputs": [
    {
     "data": {
      "text/html": [
       "<style>#sk-container-id-3 {color: black;background-color: white;}#sk-container-id-3 pre{padding: 0;}#sk-container-id-3 div.sk-toggleable {background-color: white;}#sk-container-id-3 label.sk-toggleable__label {cursor: pointer;display: block;width: 100%;margin-bottom: 0;padding: 0.3em;box-sizing: border-box;text-align: center;}#sk-container-id-3 label.sk-toggleable__label-arrow:before {content: \"▸\";float: left;margin-right: 0.25em;color: #696969;}#sk-container-id-3 label.sk-toggleable__label-arrow:hover:before {color: black;}#sk-container-id-3 div.sk-estimator:hover label.sk-toggleable__label-arrow:before {color: black;}#sk-container-id-3 div.sk-toggleable__content {max-height: 0;max-width: 0;overflow: hidden;text-align: left;background-color: #f0f8ff;}#sk-container-id-3 div.sk-toggleable__content pre {margin: 0.2em;color: black;border-radius: 0.25em;background-color: #f0f8ff;}#sk-container-id-3 input.sk-toggleable__control:checked~div.sk-toggleable__content {max-height: 200px;max-width: 100%;overflow: auto;}#sk-container-id-3 input.sk-toggleable__control:checked~label.sk-toggleable__label-arrow:before {content: \"▾\";}#sk-container-id-3 div.sk-estimator input.sk-toggleable__control:checked~label.sk-toggleable__label {background-color: #d4ebff;}#sk-container-id-3 div.sk-label input.sk-toggleable__control:checked~label.sk-toggleable__label {background-color: #d4ebff;}#sk-container-id-3 input.sk-hidden--visually {border: 0;clip: rect(1px 1px 1px 1px);clip: rect(1px, 1px, 1px, 1px);height: 1px;margin: -1px;overflow: hidden;padding: 0;position: absolute;width: 1px;}#sk-container-id-3 div.sk-estimator {font-family: monospace;background-color: #f0f8ff;border: 1px dotted black;border-radius: 0.25em;box-sizing: border-box;margin-bottom: 0.5em;}#sk-container-id-3 div.sk-estimator:hover {background-color: #d4ebff;}#sk-container-id-3 div.sk-parallel-item::after {content: \"\";width: 100%;border-bottom: 1px solid gray;flex-grow: 1;}#sk-container-id-3 div.sk-label:hover label.sk-toggleable__label {background-color: #d4ebff;}#sk-container-id-3 div.sk-serial::before {content: \"\";position: absolute;border-left: 1px solid gray;box-sizing: border-box;top: 0;bottom: 0;left: 50%;z-index: 0;}#sk-container-id-3 div.sk-serial {display: flex;flex-direction: column;align-items: center;background-color: white;padding-right: 0.2em;padding-left: 0.2em;position: relative;}#sk-container-id-3 div.sk-item {position: relative;z-index: 1;}#sk-container-id-3 div.sk-parallel {display: flex;align-items: stretch;justify-content: center;background-color: white;position: relative;}#sk-container-id-3 div.sk-item::before, #sk-container-id-3 div.sk-parallel-item::before {content: \"\";position: absolute;border-left: 1px solid gray;box-sizing: border-box;top: 0;bottom: 0;left: 50%;z-index: -1;}#sk-container-id-3 div.sk-parallel-item {display: flex;flex-direction: column;z-index: 1;position: relative;background-color: white;}#sk-container-id-3 div.sk-parallel-item:first-child::after {align-self: flex-end;width: 50%;}#sk-container-id-3 div.sk-parallel-item:last-child::after {align-self: flex-start;width: 50%;}#sk-container-id-3 div.sk-parallel-item:only-child::after {width: 0;}#sk-container-id-3 div.sk-dashed-wrapped {border: 1px dashed gray;margin: 0 0.4em 0.5em 0.4em;box-sizing: border-box;padding-bottom: 0.4em;background-color: white;}#sk-container-id-3 div.sk-label label {font-family: monospace;font-weight: bold;display: inline-block;line-height: 1.2em;}#sk-container-id-3 div.sk-label-container {text-align: center;}#sk-container-id-3 div.sk-container {/* jupyter's `normalize.less` sets `[hidden] { display: none; }` but bootstrap.min.css set `[hidden] { display: none !important; }` so we also need the `!important` here to be able to override the default hidden behavior on the sphinx rendered scikit-learn.org. See: https://github.com/scikit-learn/scikit-learn/issues/21755 */display: inline-block !important;position: relative;}#sk-container-id-3 div.sk-text-repr-fallback {display: none;}</style><div id=\"sk-container-id-3\" class=\"sk-top-container\"><div class=\"sk-text-repr-fallback\"><pre>Perceptron(max_iter=5000)</pre><b>In a Jupyter environment, please rerun this cell to show the HTML representation or trust the notebook. <br />On GitHub, the HTML representation is unable to render, please try loading this page with nbviewer.org.</b></div><div class=\"sk-container\" hidden><div class=\"sk-item\"><div class=\"sk-estimator sk-toggleable\"><input class=\"sk-toggleable__control sk-hidden--visually\" id=\"sk-estimator-id-3\" type=\"checkbox\" checked><label for=\"sk-estimator-id-3\" class=\"sk-toggleable__label sk-toggleable__label-arrow\">Perceptron</label><div class=\"sk-toggleable__content\"><pre>Perceptron(max_iter=5000)</pre></div></div></div></div></div>"
      ],
      "text/plain": [
       "Perceptron(max_iter=5000)"
      ]
     },
     "execution_count": 49,
     "metadata": {},
     "output_type": "execute_result"
    }
   ],
   "source": [
    "classifier.fit(X_train,y_train)"
   ]
  },
  {
   "cell_type": "code",
   "execution_count": 50,
   "id": "68da2907",
   "metadata": {
    "execution": {
     "iopub.execute_input": "2022-12-28T15:12:08.911503Z",
     "iopub.status.busy": "2022-12-28T15:12:08.910488Z",
     "iopub.status.idle": "2022-12-28T15:12:08.917422Z",
     "shell.execute_reply": "2022-12-28T15:12:08.916559Z"
    },
    "papermill": {
     "duration": 0.032983,
     "end_time": "2022-12-28T15:12:08.919566",
     "exception": false,
     "start_time": "2022-12-28T15:12:08.886583",
     "status": "completed"
    },
    "tags": []
   },
   "outputs": [],
   "source": [
    "#x_test\n",
    "y_pred=model.predict(X_test)#Model Predicton"
   ]
  },
  {
   "cell_type": "code",
   "execution_count": 51,
   "id": "11395a35",
   "metadata": {
    "execution": {
     "iopub.execute_input": "2022-12-28T15:12:08.969305Z",
     "iopub.status.busy": "2022-12-28T15:12:08.968546Z",
     "iopub.status.idle": "2022-12-28T15:12:08.981024Z",
     "shell.execute_reply": "2022-12-28T15:12:08.980132Z"
    },
    "papermill": {
     "duration": 0.040667,
     "end_time": "2022-12-28T15:12:08.983774",
     "exception": false,
     "start_time": "2022-12-28T15:12:08.943107",
     "status": "completed"
    },
    "tags": []
   },
   "outputs": [],
   "source": [
    "y_pred_2=model_2.predict(X_test)"
   ]
  },
  {
   "cell_type": "code",
   "execution_count": 52,
   "id": "1b67ad96",
   "metadata": {
    "execution": {
     "iopub.execute_input": "2022-12-28T15:12:09.033504Z",
     "iopub.status.busy": "2022-12-28T15:12:09.032353Z",
     "iopub.status.idle": "2022-12-28T15:12:09.039777Z",
     "shell.execute_reply": "2022-12-28T15:12:09.038661Z"
    },
    "papermill": {
     "duration": 0.03478,
     "end_time": "2022-12-28T15:12:09.042237",
     "exception": false,
     "start_time": "2022-12-28T15:12:09.007457",
     "status": "completed"
    },
    "tags": []
   },
   "outputs": [],
   "source": [
    "class_pred=classifier.predict(X_test)"
   ]
  },
  {
   "cell_type": "code",
   "execution_count": 53,
   "id": "9e205cbe",
   "metadata": {
    "execution": {
     "iopub.execute_input": "2022-12-28T15:12:09.092175Z",
     "iopub.status.busy": "2022-12-28T15:12:09.091746Z",
     "iopub.status.idle": "2022-12-28T15:12:09.099537Z",
     "shell.execute_reply": "2022-12-28T15:12:09.098444Z"
    },
    "papermill": {
     "duration": 0.035357,
     "end_time": "2022-12-28T15:12:09.101843",
     "exception": false,
     "start_time": "2022-12-28T15:12:09.066486",
     "status": "completed"
    },
    "tags": []
   },
   "outputs": [
    {
     "data": {
      "text/plain": [
       "array([1, 0, 1, 1, 1, 1, 0, 1, 1, 1, 1, 0, 1, 0, 1, 1, 1, 0, 1, 1, 0, 1,\n",
       "       1, 1, 1, 1, 1, 1, 1, 0, 1, 1, 1, 0, 1, 1, 1, 0, 1, 0, 1, 0, 0, 0,\n",
       "       0, 1, 1, 1, 0, 1, 1, 1, 1, 1, 0, 1, 0, 1, 1, 1, 0, 1, 1, 1, 0, 0,\n",
       "       1, 0, 0, 1, 1, 1, 1, 1, 0, 1, 0, 1, 1, 1, 1, 1, 1, 0, 1, 1, 1, 1,\n",
       "       0, 0, 1, 1, 1, 0, 0, 0, 1, 0, 1, 0, 1, 0, 1, 0, 0, 0, 1, 1, 0, 1,\n",
       "       1, 0, 1, 1, 1, 1, 1, 1, 1, 1, 1, 1, 1, 1, 0, 1, 1, 1, 1, 0, 0, 1,\n",
       "       0, 1, 1, 1, 1, 0, 0, 1, 1, 1, 1, 1, 1, 1, 1, 0, 1, 0, 0, 0, 1, 1,\n",
       "       0, 0, 1, 0, 1, 1, 0, 1, 0, 1, 0, 1, 1, 1, 0, 0, 1, 1, 1, 1, 1, 0,\n",
       "       1, 1, 1], dtype=int64)"
      ]
     },
     "execution_count": 53,
     "metadata": {},
     "output_type": "execute_result"
    }
   ],
   "source": [
    "class_pred"
   ]
  },
  {
   "cell_type": "code",
   "execution_count": 54,
   "id": "b15cb439",
   "metadata": {
    "execution": {
     "iopub.execute_input": "2022-12-28T15:12:09.150454Z",
     "iopub.status.busy": "2022-12-28T15:12:09.149352Z",
     "iopub.status.idle": "2022-12-28T15:12:09.157761Z",
     "shell.execute_reply": "2022-12-28T15:12:09.156591Z"
    },
    "papermill": {
     "duration": 0.035039,
     "end_time": "2022-12-28T15:12:09.160047",
     "exception": false,
     "start_time": "2022-12-28T15:12:09.125008",
     "status": "completed"
    },
    "tags": []
   },
   "outputs": [
    {
     "data": {
      "text/plain": [
       "array([1, 0, 0, 1, 1, 1, 1, 0, 1, 1, 0, 0, 0, 0, 0, 1, 1, 1, 0, 0, 0, 1,\n",
       "       1, 0, 0, 0, 0, 1, 0, 0, 0, 1, 0, 0, 1, 0, 1, 1, 1, 0, 0, 0, 0, 0,\n",
       "       0, 0, 0, 0, 0, 0, 1, 1, 0, 1, 0, 1, 0, 1, 1, 1, 0, 1, 1, 0, 0, 0,\n",
       "       0, 0, 0, 1, 0, 1, 1, 1, 0, 0, 0, 1, 0, 0, 0, 1, 1, 0, 0, 0, 1, 1,\n",
       "       0, 0, 1, 0, 0, 0, 0, 0, 1, 1, 1, 0, 0, 0, 1, 0, 0, 0, 1, 0, 1, 1,\n",
       "       1, 0, 1, 1, 0, 0, 0, 0, 1, 0, 0, 1, 1, 1, 0, 1, 1, 0, 0, 0, 1, 1,\n",
       "       0, 1, 1, 1, 1, 0, 0, 0, 0, 0, 0, 0, 0, 1, 0, 0, 1, 0, 0, 0, 0, 1,\n",
       "       0, 0, 1, 1, 1, 0, 0, 1, 0, 1, 0, 0, 0, 1, 0, 0, 1, 1, 1, 0, 0, 0,\n",
       "       1, 1, 1], dtype=int64)"
      ]
     },
     "execution_count": 54,
     "metadata": {},
     "output_type": "execute_result"
    }
   ],
   "source": [
    "y_test.values"
   ]
  },
  {
   "cell_type": "code",
   "execution_count": 55,
   "id": "740769db",
   "metadata": {
    "execution": {
     "iopub.execute_input": "2022-12-28T15:12:09.209456Z",
     "iopub.status.busy": "2022-12-28T15:12:09.207430Z",
     "iopub.status.idle": "2022-12-28T15:12:09.215600Z",
     "shell.execute_reply": "2022-12-28T15:12:09.214767Z"
    },
    "papermill": {
     "duration": 0.034524,
     "end_time": "2022-12-28T15:12:09.217770",
     "exception": false,
     "start_time": "2022-12-28T15:12:09.183246",
     "status": "completed"
    },
    "tags": []
   },
   "outputs": [
    {
     "data": {
      "text/plain": [
       "array([0, 0, 0, 1, 1, 1, 1, 0, 1, 1, 0, 0, 0, 0, 0, 1, 0, 1, 0, 0, 0, 0,\n",
       "       1, 0, 0, 0, 0, 0, 0, 1, 0, 1, 1, 1, 0, 0, 0, 1, 1, 0, 0, 0, 0, 0,\n",
       "       1, 0, 0, 0, 0, 0, 1, 1, 0, 1, 0, 1, 0, 1, 1, 1, 0, 1, 1, 0, 0, 1,\n",
       "       0, 0, 0, 1, 1, 1, 1, 1, 0, 0, 1, 1, 1, 0, 0, 1, 1, 0, 0, 0, 1, 1,\n",
       "       0, 0, 0, 0, 0, 0, 0, 0, 0, 0, 1, 0, 0, 0, 1, 0, 0, 0, 1, 0, 0, 0,\n",
       "       1, 0, 1, 0, 1, 0, 0, 0, 1, 0, 0, 1, 1, 0, 0, 1, 1, 1, 1, 0, 1, 0,\n",
       "       0, 1, 0, 1, 1, 0, 0, 1, 0, 1, 0, 0, 0, 1, 0, 0, 1, 0, 0, 0, 0, 1,\n",
       "       0, 0, 0, 1, 1, 1, 0, 0, 0, 1, 0, 0, 0, 1, 0, 0, 1, 1, 0, 1, 0, 0,\n",
       "       0, 1, 1], dtype=int64)"
      ]
     },
     "execution_count": 55,
     "metadata": {},
     "output_type": "execute_result"
    }
   ],
   "source": [
    "#y_test\n",
    "y_pred"
   ]
  },
  {
   "cell_type": "code",
   "execution_count": 56,
   "id": "04bc8229",
   "metadata": {
    "execution": {
     "iopub.execute_input": "2022-12-28T15:12:09.266351Z",
     "iopub.status.busy": "2022-12-28T15:12:09.265701Z",
     "iopub.status.idle": "2022-12-28T15:12:09.273133Z",
     "shell.execute_reply": "2022-12-28T15:12:09.272094Z"
    },
    "papermill": {
     "duration": 0.034635,
     "end_time": "2022-12-28T15:12:09.275864",
     "exception": false,
     "start_time": "2022-12-28T15:12:09.241229",
     "status": "completed"
    },
    "tags": []
   },
   "outputs": [
    {
     "data": {
      "text/plain": [
       "array([1, 0, 0, 1, 1, 1, 1, 0, 1, 1, 0, 0, 0, 0, 0, 1, 1, 1, 0, 0, 0, 1,\n",
       "       1, 0, 0, 0, 0, 1, 0, 0, 0, 1, 0, 0, 1, 0, 1, 1, 1, 0, 0, 0, 0, 0,\n",
       "       0, 0, 0, 0, 0, 0, 1, 1, 0, 1, 0, 1, 0, 1, 1, 1, 0, 1, 1, 0, 0, 0,\n",
       "       0, 0, 0, 1, 0, 1, 1, 1, 0, 0, 0, 1, 0, 0, 0, 1, 1, 0, 0, 0, 1, 1,\n",
       "       0, 0, 1, 0, 0, 0, 0, 0, 1, 1, 1, 0, 0, 0, 1, 0, 0, 0, 1, 0, 1, 1,\n",
       "       1, 0, 1, 1, 0, 0, 0, 0, 1, 0, 0, 1, 1, 1, 0, 1, 1, 0, 0, 0, 1, 1,\n",
       "       0, 1, 1, 1, 1, 0, 0, 0, 0, 0, 0, 0, 0, 1, 0, 0, 1, 0, 0, 0, 0, 1,\n",
       "       0, 0, 1, 1, 1, 0, 0, 1, 0, 1, 0, 0, 0, 1, 0, 0, 1, 1, 1, 0, 0, 0,\n",
       "       1, 1, 1], dtype=int64)"
      ]
     },
     "execution_count": 56,
     "metadata": {},
     "output_type": "execute_result"
    }
   ],
   "source": [
    "y_test.values"
   ]
  },
  {
   "cell_type": "code",
   "execution_count": 57,
   "id": "61668fd1",
   "metadata": {
    "execution": {
     "iopub.execute_input": "2022-12-28T15:12:09.327316Z",
     "iopub.status.busy": "2022-12-28T15:12:09.326852Z",
     "iopub.status.idle": "2022-12-28T15:12:09.333988Z",
     "shell.execute_reply": "2022-12-28T15:12:09.333036Z"
    },
    "papermill": {
     "duration": 0.03516,
     "end_time": "2022-12-28T15:12:09.336020",
     "exception": false,
     "start_time": "2022-12-28T15:12:09.300860",
     "status": "completed"
    },
    "tags": []
   },
   "outputs": [
    {
     "data": {
      "text/plain": [
       "array([0, 0, 0, 0, 0, 1, 0, 0, 0, 0, 0, 0, 0, 0, 0, 0, 0, 0, 0, 0, 0, 0,\n",
       "       0, 0, 0, 0, 0, 0, 0, 0, 0, 0, 0, 0, 0, 0, 0, 0, 0, 0, 1, 0, 0, 0,\n",
       "       0, 0, 0, 0, 0, 1, 0, 1, 0, 1, 0, 1, 0, 1, 0, 0, 0, 0, 0, 0, 0, 0,\n",
       "       1, 0, 0, 1, 0, 1, 0, 1, 0, 0, 0, 0, 0, 0, 0, 0, 1, 0, 0, 0, 1, 1,\n",
       "       0, 0, 0, 0, 0, 0, 0, 0, 0, 0, 0, 0, 0, 0, 1, 0, 0, 0, 0, 0, 0, 0,\n",
       "       0, 0, 1, 0, 1, 0, 0, 0, 0, 0, 0, 1, 1, 0, 0, 0, 0, 1, 0, 0, 0, 0,\n",
       "       0, 0, 0, 0, 1, 0, 0, 0, 0, 0, 0, 0, 0, 0, 0, 0, 1, 0, 0, 0, 0, 0,\n",
       "       0, 0, 0, 0, 0, 0, 0, 0, 0, 1, 0, 1, 0, 0, 0, 0, 1, 0, 0, 0, 0, 0,\n",
       "       0, 0, 0], dtype=int64)"
      ]
     },
     "execution_count": 57,
     "metadata": {},
     "output_type": "execute_result"
    }
   ],
   "source": [
    "y_pred_2"
   ]
  },
  {
   "cell_type": "code",
   "execution_count": 58,
   "id": "eb9842a5",
   "metadata": {
    "execution": {
     "iopub.execute_input": "2022-12-28T15:12:09.386485Z",
     "iopub.status.busy": "2022-12-28T15:12:09.385604Z",
     "iopub.status.idle": "2022-12-28T15:12:09.393891Z",
     "shell.execute_reply": "2022-12-28T15:12:09.392462Z"
    },
    "papermill": {
     "duration": 0.036037,
     "end_time": "2022-12-28T15:12:09.396427",
     "exception": false,
     "start_time": "2022-12-28T15:12:09.360390",
     "status": "completed"
    },
    "tags": []
   },
   "outputs": [
    {
     "data": {
      "text/plain": [
       "array([1, 0, 0, 1, 1, 1, 1, 0, 1, 1, 0, 0, 0, 0, 0, 1, 1, 1, 0, 0, 0, 1,\n",
       "       1, 0, 0, 0, 0, 1, 0, 0, 0, 1, 0, 0, 1, 0, 1, 1, 1, 0, 0, 0, 0, 0,\n",
       "       0, 0, 0, 0, 0, 0, 1, 1, 0, 1, 0, 1, 0, 1, 1, 1, 0, 1, 1, 0, 0, 0,\n",
       "       0, 0, 0, 1, 0, 1, 1, 1, 0, 0, 0, 1, 0, 0, 0, 1, 1, 0, 0, 0, 1, 1,\n",
       "       0, 0, 1, 0, 0, 0, 0, 0, 1, 1, 1, 0, 0, 0, 1, 0, 0, 0, 1, 0, 1, 1,\n",
       "       1, 0, 1, 1, 0, 0, 0, 0, 1, 0, 0, 1, 1, 1, 0, 1, 1, 0, 0, 0, 1, 1,\n",
       "       0, 1, 1, 1, 1, 0, 0, 0, 0, 0, 0, 0, 0, 1, 0, 0, 1, 0, 0, 0, 0, 1,\n",
       "       0, 0, 1, 1, 1, 0, 0, 1, 0, 1, 0, 0, 0, 1, 0, 0, 1, 1, 1, 0, 0, 0,\n",
       "       1, 1, 1], dtype=int64)"
      ]
     },
     "execution_count": 58,
     "metadata": {},
     "output_type": "execute_result"
    }
   ],
   "source": [
    "y_test.values"
   ]
  },
  {
   "cell_type": "markdown",
   "id": "f0c1bd7f",
   "metadata": {
    "papermill": {
     "duration": 0.025294,
     "end_time": "2022-12-28T15:12:09.447369",
     "exception": false,
     "start_time": "2022-12-28T15:12:09.422075",
     "status": "completed"
    },
    "tags": []
   },
   "source": [
    "**Model Evaluation**"
   ]
  },
  {
   "cell_type": "code",
   "execution_count": 59,
   "id": "1b2c3e6b",
   "metadata": {
    "execution": {
     "iopub.execute_input": "2022-12-28T15:12:09.499743Z",
     "iopub.status.busy": "2022-12-28T15:12:09.498760Z",
     "iopub.status.idle": "2022-12-28T15:12:09.503568Z",
     "shell.execute_reply": "2022-12-28T15:12:09.502761Z"
    },
    "papermill": {
     "duration": 0.034174,
     "end_time": "2022-12-28T15:12:09.505861",
     "exception": false,
     "start_time": "2022-12-28T15:12:09.471687",
     "status": "completed"
    },
    "tags": []
   },
   "outputs": [],
   "source": [
    "from sklearn.metrics import confusion_matrix"
   ]
  },
  {
   "cell_type": "code",
   "execution_count": 60,
   "id": "19616e5d",
   "metadata": {
    "execution": {
     "iopub.execute_input": "2022-12-28T15:12:09.559887Z",
     "iopub.status.busy": "2022-12-28T15:12:09.559328Z",
     "iopub.status.idle": "2022-12-28T15:12:09.569663Z",
     "shell.execute_reply": "2022-12-28T15:12:09.568424Z"
    },
    "papermill": {
     "duration": 0.039574,
     "end_time": "2022-12-28T15:12:09.572100",
     "exception": false,
     "start_time": "2022-12-28T15:12:09.532526",
     "status": "completed"
    },
    "tags": []
   },
   "outputs": [
    {
     "data": {
      "text/plain": [
       "array([[90, 15],\n",
       "       [19, 55]], dtype=int64)"
      ]
     },
     "execution_count": 60,
     "metadata": {},
     "output_type": "execute_result"
    }
   ],
   "source": [
    "confusion_matrix(y_test,y_pred)\n",
    "# 90 true positive\n",
    "# 55 true negative"
   ]
  },
  {
   "cell_type": "code",
   "execution_count": 61,
   "id": "3da0e5d0",
   "metadata": {
    "execution": {
     "iopub.execute_input": "2022-12-28T15:12:09.624648Z",
     "iopub.status.busy": "2022-12-28T15:12:09.623893Z",
     "iopub.status.idle": "2022-12-28T15:12:09.630967Z",
     "shell.execute_reply": "2022-12-28T15:12:09.629922Z"
    },
    "papermill": {
     "duration": 0.036046,
     "end_time": "2022-12-28T15:12:09.633448",
     "exception": false,
     "start_time": "2022-12-28T15:12:09.597402",
     "status": "completed"
    },
    "tags": []
   },
   "outputs": [
    {
     "data": {
      "text/plain": [
       "array([[99,  6],\n",
       "       [55, 19]], dtype=int64)"
      ]
     },
     "execution_count": 61,
     "metadata": {},
     "output_type": "execute_result"
    }
   ],
   "source": [
    "confusion_matrix(y_test,y_pred_2)\n"
   ]
  },
  {
   "cell_type": "code",
   "execution_count": 62,
   "id": "f9cf0de3",
   "metadata": {
    "execution": {
     "iopub.execute_input": "2022-12-28T15:12:09.684292Z",
     "iopub.status.busy": "2022-12-28T15:12:09.683655Z",
     "iopub.status.idle": "2022-12-28T15:12:09.691557Z",
     "shell.execute_reply": "2022-12-28T15:12:09.690333Z"
    },
    "papermill": {
     "duration": 0.035689,
     "end_time": "2022-12-28T15:12:09.693907",
     "exception": false,
     "start_time": "2022-12-28T15:12:09.658218",
     "status": "completed"
    },
    "tags": []
   },
   "outputs": [
    {
     "data": {
      "text/plain": [
       "array([[50, 55],\n",
       "       [ 7, 67]], dtype=int64)"
      ]
     },
     "execution_count": 62,
     "metadata": {},
     "output_type": "execute_result"
    }
   ],
   "source": [
    "confusion_matrix(y_test,class_pred)"
   ]
  },
  {
   "cell_type": "code",
   "execution_count": 63,
   "id": "b2522ec4",
   "metadata": {
    "execution": {
     "iopub.execute_input": "2022-12-28T15:12:09.743242Z",
     "iopub.status.busy": "2022-12-28T15:12:09.742848Z",
     "iopub.status.idle": "2022-12-28T15:12:09.748129Z",
     "shell.execute_reply": "2022-12-28T15:12:09.746906Z"
    },
    "papermill": {
     "duration": 0.032596,
     "end_time": "2022-12-28T15:12:09.750404",
     "exception": false,
     "start_time": "2022-12-28T15:12:09.717808",
     "status": "completed"
    },
    "tags": []
   },
   "outputs": [],
   "source": [
    "from sklearn.metrics import classification_report"
   ]
  },
  {
   "cell_type": "code",
   "execution_count": 64,
   "id": "d662ce5a",
   "metadata": {
    "execution": {
     "iopub.execute_input": "2022-12-28T15:12:09.801915Z",
     "iopub.status.busy": "2022-12-28T15:12:09.801476Z",
     "iopub.status.idle": "2022-12-28T15:12:09.813721Z",
     "shell.execute_reply": "2022-12-28T15:12:09.812419Z"
    },
    "papermill": {
     "duration": 0.040816,
     "end_time": "2022-12-28T15:12:09.815994",
     "exception": false,
     "start_time": "2022-12-28T15:12:09.775178",
     "status": "completed"
    },
    "tags": []
   },
   "outputs": [
    {
     "name": "stdout",
     "output_type": "stream",
     "text": [
      "              precision    recall  f1-score   support\n",
      "\n",
      "           0       0.83      0.86      0.84       105\n",
      "           1       0.79      0.74      0.76        74\n",
      "\n",
      "    accuracy                           0.81       179\n",
      "   macro avg       0.81      0.80      0.80       179\n",
      "weighted avg       0.81      0.81      0.81       179\n",
      "\n"
     ]
    }
   ],
   "source": [
    "print(classification_report(y_test,y_pred))"
   ]
  },
  {
   "cell_type": "code",
   "execution_count": 65,
   "id": "96c46de3",
   "metadata": {
    "execution": {
     "iopub.execute_input": "2022-12-28T15:12:09.870458Z",
     "iopub.status.busy": "2022-12-28T15:12:09.869465Z",
     "iopub.status.idle": "2022-12-28T15:12:09.881002Z",
     "shell.execute_reply": "2022-12-28T15:12:09.879533Z"
    },
    "papermill": {
     "duration": 0.041706,
     "end_time": "2022-12-28T15:12:09.883597",
     "exception": false,
     "start_time": "2022-12-28T15:12:09.841891",
     "status": "completed"
    },
    "tags": []
   },
   "outputs": [
    {
     "name": "stdout",
     "output_type": "stream",
     "text": [
      "              precision    recall  f1-score   support\n",
      "\n",
      "           0       0.64      0.94      0.76       105\n",
      "           1       0.76      0.26      0.38        74\n",
      "\n",
      "    accuracy                           0.66       179\n",
      "   macro avg       0.70      0.60      0.57       179\n",
      "weighted avg       0.69      0.66      0.61       179\n",
      "\n"
     ]
    }
   ],
   "source": [
    "print(classification_report(y_test,y_pred_2))"
   ]
  },
  {
   "cell_type": "code",
   "execution_count": 66,
   "id": "e1a6d93a",
   "metadata": {
    "execution": {
     "iopub.execute_input": "2022-12-28T15:12:09.933534Z",
     "iopub.status.busy": "2022-12-28T15:12:09.932726Z",
     "iopub.status.idle": "2022-12-28T15:12:09.942794Z",
     "shell.execute_reply": "2022-12-28T15:12:09.941793Z"
    },
    "papermill": {
     "duration": 0.037473,
     "end_time": "2022-12-28T15:12:09.945116",
     "exception": false,
     "start_time": "2022-12-28T15:12:09.907643",
     "status": "completed"
    },
    "tags": []
   },
   "outputs": [
    {
     "name": "stdout",
     "output_type": "stream",
     "text": [
      "              precision    recall  f1-score   support\n",
      "\n",
      "           0       0.88      0.48      0.62       105\n",
      "           1       0.55      0.91      0.68        74\n",
      "\n",
      "    accuracy                           0.65       179\n",
      "   macro avg       0.71      0.69      0.65       179\n",
      "weighted avg       0.74      0.65      0.64       179\n",
      "\n"
     ]
    }
   ],
   "source": [
    "print(classification_report(y_test,class_pred))"
   ]
  }
 ],
 "metadata": {
  "kernelspec": {
   "display_name": "Python 3 (ipykernel)",
   "language": "python",
   "name": "python3"
  },
  "language_info": {
   "codemirror_mode": {
    "name": "ipython",
    "version": 3
   },
   "file_extension": ".py",
   "mimetype": "text/x-python",
   "name": "python",
   "nbconvert_exporter": "python",
   "pygments_lexer": "ipython3",
   "version": "3.10.9"
  },
  "papermill": {
   "default_parameters": {},
   "duration": 17.532656,
   "end_time": "2022-12-28T15:12:10.840012",
   "environment_variables": {},
   "exception": null,
   "input_path": "__notebook__.ipynb",
   "output_path": "__notebook__.ipynb",
   "parameters": {},
   "start_time": "2022-12-28T15:11:53.307356",
   "version": "2.3.4"
  }
 },
 "nbformat": 4,
 "nbformat_minor": 5
}
